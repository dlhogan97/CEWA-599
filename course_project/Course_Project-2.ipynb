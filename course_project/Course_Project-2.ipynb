{
 "cells": [
  {
   "cell_type": "markdown",
   "metadata": {},
   "source": [
    "# Course Project"
   ]
  },
  {
   "cell_type": "markdown",
   "metadata": {},
   "source": [
    "We'll use the setup from the `homework_2_A_setup.ipynb` notebook for this exercise as well. If you think that you broke that setup in the previous exercise, just rerun the setup cell in `homework_2_A_exercise_1.ipynb` before continuing."
   ]
  },
  {
   "cell_type": "markdown",
   "metadata": {},
   "source": [
    "## Albedo Changes"
   ]
  },
  {
   "cell_type": "markdown",
   "metadata": {},
   "source": [
    "### Setup"
   ]
  },
  {
   "cell_type": "code",
   "execution_count": 1,
   "metadata": {},
   "outputs": [],
   "source": [
    "%matplotlib inline\n",
    "import matplotlib.pyplot as plt # if you want to do some plotting using matplotlib (optional)\n",
    "import numpy as np # provide some mathematical functions\n",
    "import xarray as xr # read, write, manipulate and analyze NetCDF files\n",
    "from pathlib import Path # modify paths to files on the system\n",
    "cycle = plt.rcParams['axes.prop_cycle'].by_key()['color']\n",
    "import warnings\n",
    "warnings.filterwarnings('ignore')\n",
    "import pysumma as ps"
   ]
  },
  {
   "cell_type": "code",
   "execution_count": 2,
   "metadata": {},
   "outputs": [],
   "source": [
    "executable = 'summa.exe'\n",
    "filemanager = '/home/jovyan/data/cues/summa_setup/settings/file_manager_cues.txt'"
   ]
  },
  {
   "cell_type": "markdown",
   "metadata": {},
   "source": [
    "### Modify the albedo formulation"
   ]
  },
  {
   "cell_type": "markdown",
   "metadata": {},
   "source": [
    "In this exercise we will modify the albedo formulation and the parameters that govern that formulation. For background to this exercise see Clark et al. (2015). You should examine the following three scenarios:\n",
    "\n",
    "* Use a variable decay rate for the snow albedo. Note that this is the same as the default case used in the Homework 2 Exercise 1, so you actually already have these results. In this case the `alb_method` decision is set to `varDecay`.\n",
    "\n",
    "* Use a constant decay rate for the snow albedo (but use the same parameters as for the variable decay rate). In this case, set `alb_method` to `conDecay` in the decisions..\n",
    "\n",
    "* Use a constant decay rate for the snow albedo and use appropriate parameters. So set `alb_method` to `conDecay` and set the following parameters in the local parameter file. Try setting `albedoDecayRate` to 360000.0"
   ]
  },
  {
   "cell_type": "code",
   "execution_count": 3,
   "metadata": {},
   "outputs": [
    {
     "name": "stdout",
     "output_type": "stream",
     "text": [
      "old: albedoMax                 |       0.8400 |       0.7000 |       0.9500\n",
      "new: albedoMax                 |       0.7000 |       0.7000 |       0.7000\n",
      "old: albedoMinWinter           |       0.5500 |       0.6000 |       1.0000\n",
      "new: albedoMinWinter           |       0.6000 |       0.6000 |       0.6000\n",
      "old: albedoMinSpring           |       0.5500 |       0.3000 |       1.0000\n",
      "new: albedoMinSpring           |       0.4500 |       0.4500 |       0.4500\n",
      "old: albedoDecayRate           |       1.0d+6 |       1.0d+5 |       5.0d+6\n",
      "new: albedoDecayRate           |       6.2d+6 |       6.2d+6 |       6.2d+6\n",
      "old: albedoRefresh             |       1.0000 |       1.0000 |      10.0000\n",
      "new: albedoRefresh             |       1.5000 |       1.5000 |       1.5000\n"
     ]
    }
   ],
   "source": [
    "\n",
    "s = ps.Simulation(executable, filemanager)\n",
    "\n",
    "# Shorten the simulation length to 3 years\n",
    "s.manager['simStartTime'] = '2010-10-01 00:00'\n",
    "s.manager['simEndTime'] = '2013-10-01 00:00'\n",
    "# set unburned albedo values\n",
    "print('old: ' + str(s.global_hru_params['albedoMax']))\n",
    "s.global_hru_params['albedoMax'] = 0.7\n",
    "print('new: ' + str(s.global_hru_params['albedoMax']))\n",
    "\n",
    "print('old: ' + str(s.global_hru_params['albedoMinWinter']))\n",
    "s.global_hru_params['albedoMinWinter'] = 0.6\n",
    "print('new: ' + str(s.global_hru_params['albedoMinWinter']))\n",
    "\n",
    "print('old: ' + str(s.global_hru_params['albedoMinSpring']))\n",
    "s.global_hru_params['albedoMinSpring'] = 0.45\n",
    "print('new: ' + str(s.global_hru_params['albedoMinSpring']))\n",
    "\n",
    "print('old: ' + str(s.global_hru_params['albedoDecayRate']))\n",
    "s.global_hru_params['albedoDecayRate'] = 6171428\n",
    "print('new: ' + str(s.global_hru_params['albedoDecayRate']))\n",
    "\n",
    "print('old: ' + str(s.global_hru_params['albedoRefresh']))\n",
    "s.global_hru_params['albedoRefresh'] = 1.5\n",
    "print('new: ' + str(s.global_hru_params['albedoRefresh']))\n",
    "# Add in some additional variables so we can demonstrate plotting capabilities\n",
    "output_settings = {'period': 1, 'instant': 1, 'sum': 0, \n",
    "              'mean': 0, 'variance': 0, 'min': 0, 'max': 0}\n",
    "layer_vars = ['mLayerTemp', 'mLayerDepth', 'mLayerHeight',\n",
    "              'iLayerHeight', 'scalarSnowDepth', 'nSnow']\n",
    "\n",
    "# Create the new variables\n",
    "for var in layer_vars:\n",
    "    s.output_control[var] = output_settings\n",
    "\n",
    "# Ensure all variables have the same statistics\n",
    "all_vars = set(layer_vars + [o.name for o in s.output_control.options])\n",
    "for var in all_vars:\n",
    "    s.output_control[var] = output_settings"
   ]
  },
  {
   "cell_type": "code",
   "execution_count": 4,
   "metadata": {},
   "outputs": [],
   "source": [
    "s.run('local', run_suffix='_nofire')"
   ]
  },
  {
   "cell_type": "code",
   "execution_count": 5,
   "metadata": {},
   "outputs": [
    {
     "data": {
      "text/plain": [
       "'Success'"
      ]
     },
     "execution_count": 5,
     "metadata": {},
     "output_type": "execute_result"
    }
   ],
   "source": [
    "s.status"
   ]
  },
  {
   "cell_type": "code",
   "execution_count": 6,
   "metadata": {},
   "outputs": [
    {
     "name": "stdout",
     "output_type": "stream",
     "text": [
      "old: albedoMax                 |       0.8400 |       0.7000 |       0.9500\n",
      "new: albedoMax                 |       0.8000 |       0.8000 |       0.8000\n",
      "old: albedoMinWinter           |       0.5500 |       0.6000 |       1.0000\n",
      "new: albedoMinWinter           |       0.6000 |       0.6000 |       0.6000\n",
      "old: albedoMinSpring           |       0.5500 |       0.3000 |       1.0000\n",
      "new: albedoMinSpring           |       0.6000 |       0.6000 |       0.6000\n",
      "old: albedoRefresh             |       1.0000 |       1.0000 |      10.0000\n",
      "new: albedoRefresh             |       1.5000 |       1.5000 |       1.5000\n"
     ]
    }
   ],
   "source": [
    "s_cst = ps.Simulation(executable, filemanager)\n",
    "# Shorten the simulation length to 3 years\n",
    "s_cst.manager['simStartTime'] = '2010-10-01 00:00'\n",
    "s_cst.manager['simEndTime'] = '2013-10-01 00:00'\n",
    "# Shorten the simulation length\n",
    "s_cst.decisions['alb_method'] = 'conDecay'\n",
    "\n",
    "print('old: ' + str(s_cst.global_hru_params['albedoMax']))\n",
    "s_cst.global_hru_params['albedoMax'] = 0.8\n",
    "print('new: ' + str(s_cst.global_hru_params['albedoMax']))\n",
    "\n",
    "print('old: ' + str(s_cst.global_hru_params['albedoMinWinter']))\n",
    "s_cst.global_hru_params['albedoMinWinter'] = 0.6\n",
    "print('new: ' + str(s_cst.global_hru_params['albedoMinWinter']))\n",
    "\n",
    "print('old: ' + str(s_cst.global_hru_params['albedoMinSpring']))\n",
    "s_cst.global_hru_params['albedoMinSpring'] = 0.6\n",
    "print('new: ' + str(s_cst.global_hru_params['albedoMinSpring']))\n",
    "\n",
    "print('old: ' + str(s_cst.global_hru_params['albedoRefresh']))\n",
    "s_cst.global_hru_params['albedoRefresh'] = 1.5\n",
    "print('new: ' + str(s_cst.global_hru_params['albedoRefresh']))\n",
    "# Add in some additional variables so we can demonstrate plotting capabilities\n",
    "output_settings = {'period': 1, 'instant': 1, 'sum': 0, \n",
    "              'mean': 0, 'variance': 0, 'min': 0, 'max': 0}\n",
    "layer_vars = ['mLayerTemp', 'mLayerDepth', 'mLayerHeight',\n",
    "              'iLayerHeight', 'scalarSnowDepth', 'nSnow']\n",
    "\n",
    "# Create the new variables\n",
    "for var in layer_vars:\n",
    "    s_cst.output_control[var] = output_settings\n",
    "\n",
    "# Ensure all variables have the same statistics\n",
    "all_vars = set(layer_vars + [o.name for o in s_cst.output_control.options])\n",
    "for var in all_vars:\n",
    "    s_cst.output_control[var] = output_settings"
   ]
  },
  {
   "cell_type": "code",
   "execution_count": 7,
   "metadata": {},
   "outputs": [],
   "source": [
    "s_cst.run('local', run_suffix='constant_decay')"
   ]
  },
  {
   "cell_type": "code",
   "execution_count": 8,
   "metadata": {},
   "outputs": [
    {
     "data": {
      "text/plain": [
       "'Success'"
      ]
     },
     "execution_count": 8,
     "metadata": {},
     "output_type": "execute_result"
    }
   ],
   "source": [
    "s_cst.status"
   ]
  },
  {
   "cell_type": "code",
   "execution_count": 9,
   "metadata": {},
   "outputs": [
    {
     "name": "stdout",
     "output_type": "stream",
     "text": [
      "old: albedoMax                 |       0.8400 |       0.7000 |       0.9500\n",
      "new: albedoMax                 |       0.5800 |       0.5800 |       0.5800\n",
      "old: albedoMinWinter           |       0.5500 |       0.6000 |       1.0000\n",
      "new: albedoMinWinter           |       0.3000 |       0.3000 |       0.3000\n",
      "old: albedoMinSpring           |       0.5500 |       0.3000 |       1.0000\n",
      "new: albedoMinSpring           |       0.3000 |       0.3000 |       0.3000\n",
      "old: albedoDecayRate           |       1.0d+6 |       1.0d+5 |       5.0d+6\n",
      "new: albedoDecayRate           |       3.1d+6 |       3.1d+6 |       3.1d+6\n",
      "old: albedoRefresh             |       1.0000 |       1.0000 |      10.0000\n",
      "new: albedoRefresh             |       1.5000 |       1.5000 |       1.5000\n"
     ]
    }
   ],
   "source": [
    "s_fire = ps.Simulation(executable, filemanager)\n",
    "# Shorten the simulation length to 3 years\n",
    "s_fire.manager['simStartTime'] = '2010-10-01 00:00'\n",
    "s_fire.manager['simEndTime'] = '2013-10-01 00:00'\n",
    "# Shorten the simulation length\n",
    "s_fire.decisions['alb_method'] = 'conDecay'\n",
    "\n",
    "# set albedo values\n",
    "print('old: ' + str(s_fire.global_hru_params['albedoMax']))\n",
    "s_fire.global_hru_params['albedoMax'] = 0.58\n",
    "print('new: ' + str(s_fire.global_hru_params['albedoMax']))\n",
    "\n",
    "print('old: ' + str(s_fire.global_hru_params['albedoMinWinter']))\n",
    "s_fire.global_hru_params['albedoMinWinter'] = 0.3\n",
    "print('new: ' + str(s_fire.global_hru_params['albedoMinWinter']))\n",
    "\n",
    "print('old: ' + str(s_fire.global_hru_params['albedoMinSpring']))\n",
    "s_fire.global_hru_params['albedoMinSpring'] = 0.3\n",
    "print('new: ' + str(s_fire.global_hru_params['albedoMinSpring']))\n",
    "\n",
    "print('old: ' + str(s_fire.global_hru_params['albedoDecayRate']))\n",
    "s_fire.global_hru_params['albedoDecayRate'] = 3085714.29 # units of days  \n",
    "print('new: ' + str(s_fire.global_hru_params['albedoDecayRate']))\n",
    "\n",
    "print('old: ' + str(s_fire.global_hru_params['albedoRefresh']))\n",
    "s_fire.global_hru_params['albedoRefresh'] = 1.5\n",
    "print('new: ' + str(s_fire.global_hru_params['albedoRefresh']))\n",
    "# Add in some additional variables so we can demonstrate plotting capabilities\n",
    "output_settings = {'period': 1, 'instant': 1, 'sum': 0, \n",
    "              'mean': 0, 'variance': 0, 'min': 0, 'max': 0}\n",
    "layer_vars = ['mLayerTemp', 'mLayerDepth', 'mLayerHeight',\n",
    "              'iLayerHeight', 'scalarSnowDepth', 'nSnow']\n",
    "\n",
    "# Create the new variables\n",
    "for var in layer_vars:\n",
    "    s_fire.output_control[var] = output_settings\n",
    "\n",
    "# Ensure all variables have the same statistics\n",
    "all_vars = set(layer_vars + [o.name for o in s_fire.output_control.options])\n",
    "for var in all_vars:\n",
    "    s_fire.output_control[var] = output_settings"
   ]
  },
  {
   "cell_type": "code",
   "execution_count": 10,
   "metadata": {},
   "outputs": [],
   "source": [
    "\n",
    "s_fire.run('local', run_suffix='fire')"
   ]
  },
  {
   "cell_type": "code",
   "execution_count": 11,
   "metadata": {},
   "outputs": [
    {
     "data": {
      "text/plain": [
       "'Success'"
      ]
     },
     "execution_count": 11,
     "metadata": {},
     "output_type": "execute_result"
    }
   ],
   "source": [
    "s_fire.status"
   ]
  },
  {
   "cell_type": "code",
   "execution_count": 15,
   "metadata": {},
   "outputs": [],
   "source": [
    "swe_file = '/home/jovyan/data/umpqua/observations/Storck_9697_SWE_obs.nc'\n",
    "swe_obs = xr.open_dataset(swe_file)"
   ]
  },
  {
   "cell_type": "code",
   "execution_count": 37,
   "metadata": {},
   "outputs": [
    {
     "data": {
      "image/png": "[encoded data removed]",
      "text/plain": [
       "<Figure size 432x288 with 1 Axes>"
      ]
     },
     "metadata": {
      "needs_background": "light"
     },
     "output_type": "display_data"
    }
   ],
   "source": [
    "import datetime as dt\n",
    "s.output['scalarSWE'].isel(hru=0).plot(label='No Fire')\n",
    "s_cst.output['scalarSWE'].isel(hru=0).plot(label='No Fire - Constant Decay')\n",
    "s_fire.output['scalarSWE'].isel(hru=0).plot(label='Fire', color = 'r')\n",
    "plt.legend()\n",
    "plt.xlim(dt.date(2011,6,1),dt.date(2011,8,1))\n",
    "plt.xlabel('Time', size=15)\n",
    "plt.ylabel('SWE [mm]', size=15)\n",
    "plt.title('Comparing SWE with Albedo Alterations at CUES')\n",
    "plt.savefig('CUES-SWE_melt',bbox_inches='tight',pad_inches=0.3)"
   ]
  },
  {
   "cell_type": "code",
   "execution_count": 25,
   "metadata": {},
   "outputs": [
    {
     "data": {
      "text/html": [
       "<div><svg style=\"position: absolute; width: 0; height: 0; overflow: hidden\">\n",
       "<defs>\n",
       "<symbol id=\"icon-database\" viewBox=\"0 0 32 32\">\n",
       "<path d=\"M16 0c-8.837 0-16 2.239-16 5v4c0 2.761 7.163 5 16 5s16-2.239 16-5v-4c0-2.761-7.163-5-16-5z\"></path>\n",
       "<path d=\"M16 17c-8.837 0-16-2.239-16-5v6c0 2.761 7.163 5 16 5s16-2.239 16-5v-6c0 2.761-7.163 5-16 5z\"></path>\n",
       "<path d=\"M16 26c-8.837 0-16-2.239-16-5v6c0 2.761 7.163 5 16 5s16-2.239 16-5v-6c0 2.761-7.163 5-16 5z\"></path>\n",
       "</symbol>\n",
       "<symbol id=\"icon-file-text2\" viewBox=\"0 0 32 32\">\n",
       "<path d=\"M28.681 7.159c-0.694-0.947-1.662-2.053-2.724-3.116s-2.169-2.030-3.116-2.724c-1.612-1.182-2.393-1.319-2.841-1.319h-15.5c-1.378 0-2.5 1.121-2.5 2.5v27c0 1.378 1.122 2.5 2.5 2.5h23c1.378 0 2.5-1.122 2.5-2.5v-19.5c0-0.448-0.137-1.23-1.319-2.841zM24.543 5.457c0.959 0.959 1.712 1.825 2.268 2.543h-4.811v-4.811c0.718 0.556 1.584 1.309 2.543 2.268zM28 29.5c0 0.271-0.229 0.5-0.5 0.5h-23c-0.271 0-0.5-0.229-0.5-0.5v-27c0-0.271 0.229-0.5 0.5-0.5 0 0 15.499-0 15.5 0v7c0 0.552 0.448 1 1 1h7v19.5z\"></path>\n",
       "<path d=\"M23 26h-14c-0.552 0-1-0.448-1-1s0.448-1 1-1h14c0.552 0 1 0.448 1 1s-0.448 1-1 1z\"></path>\n",
       "<path d=\"M23 22h-14c-0.552 0-1-0.448-1-1s0.448-1 1-1h14c0.552 0 1 0.448 1 1s-0.448 1-1 1z\"></path>\n",
       "<path d=\"M23 18h-14c-0.552 0-1-0.448-1-1s0.448-1 1-1h14c0.552 0 1 0.448 1 1s-0.448 1-1 1z\"></path>\n",
       "</symbol>\n",
       "</defs>\n",
       "</svg>\n",
       "<style>/* CSS stylesheet for displaying xarray objects in jupyterlab.\n",
       " *\n",
       " */\n",
       "\n",
       ":root {\n",
       "  --xr-font-color0: var(--jp-content-font-color0, rgba(0, 0, 0, 1));\n",
       "  --xr-font-color2: var(--jp-content-font-color2, rgba(0, 0, 0, 0.54));\n",
       "  --xr-font-color3: var(--jp-content-font-color3, rgba(0, 0, 0, 0.38));\n",
       "  --xr-border-color: var(--jp-border-color2, #e0e0e0);\n",
       "  --xr-disabled-color: var(--jp-layout-color3, #bdbdbd);\n",
       "  --xr-background-color: var(--jp-layout-color0, white);\n",
       "  --xr-background-color-row-even: var(--jp-layout-color1, white);\n",
       "  --xr-background-color-row-odd: var(--jp-layout-color2, #eeeeee);\n",
       "}\n",
       "\n",
       "html[theme=dark],\n",
       "body.vscode-dark {\n",
       "  --xr-font-color0: rgba(255, 255, 255, 1);\n",
       "  --xr-font-color2: rgba(255, 255, 255, 0.54);\n",
       "  --xr-font-color3: rgba(255, 255, 255, 0.38);\n",
       "  --xr-border-color: #1F1F1F;\n",
       "  --xr-disabled-color: #515151;\n",
       "  --xr-background-color: #111111;\n",
       "  --xr-background-color-row-even: #111111;\n",
       "  --xr-background-color-row-odd: #313131;\n",
       "}\n",
       "\n",
       ".xr-wrap {\n",
       "  display: block;\n",
       "  min-width: 300px;\n",
       "  max-width: 700px;\n",
       "}\n",
       "\n",
       ".xr-text-repr-fallback {\n",
       "  /* fallback to plain text repr when CSS is not injected (untrusted notebook) */\n",
       "  display: none;\n",
       "}\n",
       "\n",
       ".xr-header {\n",
       "  padding-top: 6px;\n",
       "  padding-bottom: 6px;\n",
       "  margin-bottom: 4px;\n",
       "  border-bottom: solid 1px var(--xr-border-color);\n",
       "}\n",
       "\n",
       ".xr-header > div,\n",
       ".xr-header > ul {\n",
       "  display: inline;\n",
       "  margin-top: 0;\n",
       "  margin-bottom: 0;\n",
       "}\n",
       "\n",
       ".xr-obj-type,\n",
       ".xr-array-name {\n",
       "  margin-left: 2px;\n",
       "  margin-right: 10px;\n",
       "}\n",
       "\n",
       ".xr-obj-type {\n",
       "  color: var(--xr-font-color2);\n",
       "}\n",
       "\n",
       ".xr-sections {\n",
       "  padding-left: 0 !important;\n",
       "  display: grid;\n",
       "  grid-template-columns: 150px auto auto 1fr 20px 20px;\n",
       "}\n",
       "\n",
       ".xr-section-item {\n",
       "  display: contents;\n",
       "}\n",
       "\n",
       ".xr-section-item input {\n",
       "  display: none;\n",
       "}\n",
       "\n",
       ".xr-section-item input + label {\n",
       "  color: var(--xr-disabled-color);\n",
       "}\n",
       "\n",
       ".xr-section-item input:enabled + label {\n",
       "  cursor: pointer;\n",
       "  color: var(--xr-font-color2);\n",
       "}\n",
       "\n",
       ".xr-section-item input:enabled + label:hover {\n",
       "  color: var(--xr-font-color0);\n",
       "}\n",
       "\n",
       ".xr-section-summary {\n",
       "  grid-column: 1;\n",
       "  color: var(--xr-font-color2);\n",
       "  font-weight: 500;\n",
       "}\n",
       "\n",
       ".xr-section-summary > span {\n",
       "  display: inline-block;\n",
       "  padding-left: 0.5em;\n",
       "}\n",
       "\n",
       ".xr-section-summary-in:disabled + label {\n",
       "  color: var(--xr-font-color2);\n",
       "}\n",
       "\n",
       ".xr-section-summary-in + label:before {\n",
       "  display: inline-block;\n",
       "  content: '►';\n",
       "  font-size: 11px;\n",
       "  width: 15px;\n",
       "  text-align: center;\n",
       "}\n",
       "\n",
       ".xr-section-summary-in:disabled + label:before {\n",
       "  color: var(--xr-disabled-color);\n",
       "}\n",
       "\n",
       ".xr-section-summary-in:checked + label:before {\n",
       "  content: '▼';\n",
       "}\n",
       "\n",
       ".xr-section-summary-in:checked + label > span {\n",
       "  display: none;\n",
       "}\n",
       "\n",
       ".xr-section-summary,\n",
       ".xr-section-inline-details {\n",
       "  padding-top: 4px;\n",
       "  padding-bottom: 4px;\n",
       "}\n",
       "\n",
       ".xr-section-inline-details {\n",
       "  grid-column: 2 / -1;\n",
       "}\n",
       "\n",
       ".xr-section-details {\n",
       "  display: none;\n",
       "  grid-column: 1 / -1;\n",
       "  margin-bottom: 5px;\n",
       "}\n",
       "\n",
       ".xr-section-summary-in:checked ~ .xr-section-details {\n",
       "  display: contents;\n",
       "}\n",
       "\n",
       ".xr-array-wrap {\n",
       "  grid-column: 1 / -1;\n",
       "  display: grid;\n",
       "  grid-template-columns: 20px auto;\n",
       "}\n",
       "\n",
       ".xr-array-wrap > label {\n",
       "  grid-column: 1;\n",
       "  vertical-align: top;\n",
       "}\n",
       "\n",
       ".xr-preview {\n",
       "  color: var(--xr-font-color3);\n",
       "}\n",
       "\n",
       ".xr-array-preview,\n",
       ".xr-array-data {\n",
       "  padding: 0 5px !important;\n",
       "  grid-column: 2;\n",
       "}\n",
       "\n",
       ".xr-array-data,\n",
       ".xr-array-in:checked ~ .xr-array-preview {\n",
       "  display: none;\n",
       "}\n",
       "\n",
       ".xr-array-in:checked ~ .xr-array-data,\n",
       ".xr-array-preview {\n",
       "  display: inline-block;\n",
       "}\n",
       "\n",
       ".xr-dim-list {\n",
       "  display: inline-block !important;\n",
       "  list-style: none;\n",
       "  padding: 0 !important;\n",
       "  margin: 0;\n",
       "}\n",
       "\n",
       ".xr-dim-list li {\n",
       "  display: inline-block;\n",
       "  padding: 0;\n",
       "  margin: 0;\n",
       "}\n",
       "\n",
       ".xr-dim-list:before {\n",
       "  content: '(';\n",
       "}\n",
       "\n",
       ".xr-dim-list:after {\n",
       "  content: ')';\n",
       "}\n",
       "\n",
       ".xr-dim-list li:not(:last-child):after {\n",
       "  content: ',';\n",
       "  padding-right: 5px;\n",
       "}\n",
       "\n",
       ".xr-has-index {\n",
       "  font-weight: bold;\n",
       "}\n",
       "\n",
       ".xr-var-list,\n",
       ".xr-var-item {\n",
       "  display: contents;\n",
       "}\n",
       "\n",
       ".xr-var-item > div,\n",
       ".xr-var-item label,\n",
       ".xr-var-item > .xr-var-name span {\n",
       "  background-color: var(--xr-background-color-row-even);\n",
       "  margin-bottom: 0;\n",
       "}\n",
       "\n",
       ".xr-var-item > .xr-var-name:hover span {\n",
       "  padding-right: 5px;\n",
       "}\n",
       "\n",
       ".xr-var-list > li:nth-child(odd) > div,\n",
       ".xr-var-list > li:nth-child(odd) > label,\n",
       ".xr-var-list > li:nth-child(odd) > .xr-var-name span {\n",
       "  background-color: var(--xr-background-color-row-odd);\n",
       "}\n",
       "\n",
       ".xr-var-name {\n",
       "  grid-column: 1;\n",
       "}\n",
       "\n",
       ".xr-var-dims {\n",
       "  grid-column: 2;\n",
       "}\n",
       "\n",
       ".xr-var-dtype {\n",
       "  grid-column: 3;\n",
       "  text-align: right;\n",
       "  color: var(--xr-font-color2);\n",
       "}\n",
       "\n",
       ".xr-var-preview {\n",
       "  grid-column: 4;\n",
       "}\n",
       "\n",
       ".xr-var-name,\n",
       ".xr-var-dims,\n",
       ".xr-var-dtype,\n",
       ".xr-preview,\n",
       ".xr-attrs dt {\n",
       "  white-space: nowrap;\n",
       "  overflow: hidden;\n",
       "  text-overflow: ellipsis;\n",
       "  padding-right: 10px;\n",
       "}\n",
       "\n",
       ".xr-var-name:hover,\n",
       ".xr-var-dims:hover,\n",
       ".xr-var-dtype:hover,\n",
       ".xr-attrs dt:hover {\n",
       "  overflow: visible;\n",
       "  width: auto;\n",
       "  z-index: 1;\n",
       "}\n",
       "\n",
       ".xr-var-attrs,\n",
       ".xr-var-data {\n",
       "  display: none;\n",
       "  background-color: var(--xr-background-color) !important;\n",
       "  padding-bottom: 5px !important;\n",
       "}\n",
       "\n",
       ".xr-var-attrs-in:checked ~ .xr-var-attrs,\n",
       ".xr-var-data-in:checked ~ .xr-var-data {\n",
       "  display: block;\n",
       "}\n",
       "\n",
       ".xr-var-data > table {\n",
       "  float: right;\n",
       "}\n",
       "\n",
       ".xr-var-name span,\n",
       ".xr-var-data,\n",
       ".xr-attrs {\n",
       "  padding-left: 25px !important;\n",
       "}\n",
       "\n",
       ".xr-attrs,\n",
       ".xr-var-attrs,\n",
       ".xr-var-data {\n",
       "  grid-column: 1 / -1;\n",
       "}\n",
       "\n",
       "dl.xr-attrs {\n",
       "  padding: 0;\n",
       "  margin: 0;\n",
       "  display: grid;\n",
       "  grid-template-columns: 125px auto;\n",
       "}\n",
       "\n",
       ".xr-attrs dt,\n",
       ".xr-attrs dd {\n",
       "  padding: 0;\n",
       "  margin: 0;\n",
       "  float: left;\n",
       "  padding-right: 10px;\n",
       "  width: auto;\n",
       "}\n",
       "\n",
       ".xr-attrs dt {\n",
       "  font-weight: normal;\n",
       "  grid-column: 1;\n",
       "}\n",
       "\n",
       ".xr-attrs dt:hover span {\n",
       "  display: inline-block;\n",
       "  background: var(--xr-background-color);\n",
       "  padding-right: 10px;\n",
       "}\n",
       "\n",
       ".xr-attrs dd {\n",
       "  grid-column: 2;\n",
       "  white-space: pre-wrap;\n",
       "  word-break: break-all;\n",
       "}\n",
       "\n",
       ".xr-icon-database,\n",
       ".xr-icon-file-text2 {\n",
       "  display: inline-block;\n",
       "  vertical-align: middle;\n",
       "  width: 1em;\n",
       "  height: 1.5em !important;\n",
       "  stroke-width: 0;\n",
       "  stroke: currentColor;\n",
       "  fill: currentColor;\n",
       "}\n",
       "</style><pre class='xr-text-repr-fallback'>&lt;xarray.DataArray &#x27;time&#x27; ()&gt;\n",
       "array(&#x27;2010-10-01T00:00:00.000000000&#x27;, dtype=&#x27;datetime64[ns]&#x27;)\n",
       "Coordinates:\n",
       "    time     datetime64[ns] 2010-10-01\n",
       "Attributes:\n",
       "    long_name:  time since time reference (instant)</pre><div class='xr-wrap' hidden><div class='xr-header'><div class='xr-obj-type'>xarray.DataArray</div><div class='xr-array-name'>'time'</div></div><ul class='xr-sections'><li class='xr-section-item'><div class='xr-array-wrap'><input id='section-7babfc22-51a6-4f49-90c9-5979ebe79862' class='xr-array-in' type='checkbox' checked><label for='section-7babfc22-51a6-4f49-90c9-5979ebe79862' title='Show/hide data repr'><svg class='icon xr-icon-database'><use xlink:href='#icon-database'></use></svg></label><div class='xr-array-preview xr-preview'><span>2010-10-01</span></div><div class='xr-array-data'><pre>array(&#x27;2010-10-01T00:00:00.000000000&#x27;, dtype=&#x27;datetime64[ns]&#x27;)</pre></div></div></li><li class='xr-section-item'><input id='section-c097570a-bb8b-4d9f-85bb-203a0c459e3c' class='xr-section-summary-in' type='checkbox'  checked><label for='section-c097570a-bb8b-4d9f-85bb-203a0c459e3c' class='xr-section-summary' >Coordinates: <span>(1)</span></label><div class='xr-section-inline-details'></div><div class='xr-section-details'><ul class='xr-var-list'><li class='xr-var-item'><div class='xr-var-name'><span>time</span></div><div class='xr-var-dims'>()</div><div class='xr-var-dtype'>datetime64[ns]</div><div class='xr-var-preview xr-preview'>2010-10-01</div><input id='attrs-952bd792-9985-4109-9d64-48ce3efe1733' class='xr-var-attrs-in' type='checkbox' ><label for='attrs-952bd792-9985-4109-9d64-48ce3efe1733' title='Show/Hide attributes'><svg class='icon xr-icon-file-text2'><use xlink:href='#icon-file-text2'></use></svg></label><input id='data-02478b58-5b81-479a-99e6-7a0dc2bb7328' class='xr-var-data-in' type='checkbox'><label for='data-02478b58-5b81-479a-99e6-7a0dc2bb7328' title='Show/Hide data repr'><svg class='icon xr-icon-database'><use xlink:href='#icon-database'></use></svg></label><div class='xr-var-attrs'><dl class='xr-attrs'><dt><span>long_name :</span></dt><dd>time since time reference (instant)</dd></dl></div><div class='xr-var-data'><pre>array(&#x27;2010-10-01T00:00:00.000000000&#x27;, dtype=&#x27;datetime64[ns]&#x27;)</pre></div></li></ul></div></li><li class='xr-section-item'><input id='section-deaa0050-1e60-4354-a9f3-b1d72295dd9c' class='xr-section-summary-in' type='checkbox'  checked><label for='section-deaa0050-1e60-4354-a9f3-b1d72295dd9c' class='xr-section-summary' >Attributes: <span>(1)</span></label><div class='xr-section-inline-details'></div><div class='xr-section-details'><dl class='xr-attrs'><dt><span>long_name :</span></dt><dd>time since time reference (instant)</dd></dl></div></li></ul></div></div>"
      ],
      "text/plain": [
       "<xarray.DataArray 'time' ()>\n",
       "array('2010-10-01T00:00:00.000000000', dtype='datetime64[ns]')\n",
       "Coordinates:\n",
       "    time     datetime64[ns] 2010-10-01\n",
       "Attributes:\n",
       "    long_name:  time since time reference (instant)"
      ]
     },
     "execution_count": 25,
     "metadata": {},
     "output_type": "execute_result"
    }
   ],
   "source": []
  },
  {
   "cell_type": "markdown",
   "metadata": {},
   "source": [
    "## On to the next step\n",
    "\n",
    "Before you go on restore the original parameters as we did in the previous exercise.\n",
    "\n",
    "That's it for the second part of the first homework as far as the model simulations go. Prof. Lundquist will talk more about the analysis that you need to do on these simulations. You can do the analysis here in this notebook if python is your analysis software of choice or you can upload your output to HydroShare (in NetCDF or csv format) to do additional analysis.\n",
    "\n",
    "Save this notebook and close the tab. You can also right-click on the file in the left panel if it has a green dot next to it and select \"_Shutdown kernel_\" from the popup menu to stop the python session that is executing the commands in this notebook. Then open the next notebook: \n",
    "`/home/jovyan/data/cuahsi_vu/homework_2/homework_2_C_exercise_3.ipynb`."
   ]
  },
  {
   "cell_type": "markdown",
   "metadata": {},
   "source": []
  },
  {
   "cell_type": "markdown",
   "metadata": {},
   "source": [
    "## References\n",
    "\n",
    "* Clark, M. P., B. Nijssen, J. Lundquist, D. Kavetski, D. Rupp, R. Woods, J. Freer, E. Gutmann, A. Wood, D. Gochis, R. Rasmussen, D. Tarboton, V. Mahat, G. Flerchinger, D. Marks, 2015: A unified approach for process-based hydrologic modeling: Part 2. Model implementation and case studies. _Water Resources Research_, [doi:10.1002/2015WR017200](http://doi.org/10.1002/2015WR017200)."
   ]
  },
  {
   "cell_type": "markdown",
   "metadata": {},
   "source": [
    "Slide deck"
   ]
  }
 ],
 "metadata": {
  "kernelspec": {
   "display_name": "Python 3",
   "language": "python",
   "name": "python3"
  },
  "language_info": {
   "codemirror_mode": {
    "name": "ipython",
    "version": 3
   },
   "file_extension": ".py",
   "mimetype": "text/x-python",
   "name": "python",
   "nbconvert_exporter": "python",
   "pygments_lexer": "ipython3",
   "version": "3.8.6"
  }
 },
 "nbformat": 4,
 "nbformat_minor": 4
}
