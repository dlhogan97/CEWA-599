{
 "cells": [
  {
   "cell_type": "markdown",
   "metadata": {},
   "source": [
    "# Running the CUES SUMMA setup\n",
    "\n",
    "First, we have to install the setup, which simply fixes paths in the file manager."
   ]
  },
  {
   "cell_type": "code",
   "execution_count": null,
   "metadata": {},
   "outputs": [],
   "source": [
    "! cd /home/jovyan/cues/summa_setup && ./install_local_setup.sh"
   ]
  },
  {
   "cell_type": "code",
   "execution_count": null,
   "metadata": {},
   "outputs": [],
   "source": [
    "%pylab inline\n",
    "import pysumma as ps\n",
    "import xarray as xr"
   ]
  },
  {
   "cell_type": "markdown",
   "metadata": {},
   "source": [
    "<br>\n",
    "\n",
    "## Instantiating a simulation object\n",
    "\n",
    "To set up a `Simulation` object you must supply 2 pieces of information. \n",
    "\n",
    "First, the SUMMA executable; this could be either the compiled executable on your local machine, or a docker image. \n",
    "For this case, I'll assume that `summa.exe` is on your path. \n",
    "See the commented out `executable` for example of how you could also define the docker image. \n",
    "The string for the docker image simply came from looking at the output of the `docker images` command.\n",
    "\n",
    "The second piece of information is the path to the file manager, which we just created through the install script.\n",
    "To create the `Simulation` object you can then just pass these to the constructor as shown below."
   ]
  },
  {
   "cell_type": "code",
   "execution_count": null,
   "metadata": {},
   "outputs": [],
   "source": [
    "executable = 'summa.exe'\n",
    "file_manager = '/home/jovyan/cues/summa_setup/file_manager.txt'\n",
    "\n",
    "s = ps.Simulation(executable, file_manager)"
   ]
  },
  {
   "cell_type": "markdown",
   "metadata": {},
   "source": [
    "<br>\n",
    "\n",
    "## Manipulating the configuration of the simulation object\n",
    "\n",
    "Most of your interactions with pysumma will be facilitated through this `Simulation` object, so let's take some time to look through what is in it. \n",
    "What's contained in the `Simulation` object right after instantiation is generally just the input required for a SUMMA run.\n",
    "For a more in depth discussion of what these are see the [SUMMA Input](https://summa.readthedocs.io/en/latest/input_output/SUMMA_input/) page of the documentation.\n",
    "There are several attributes of interest that can be examined. \n",
    "To see each of them you can simply `print` them. \n",
    "Here's a very high level overview of what's available:\n",
    "\n",
    "* `s.manager` - the file manager\n",
    "* `s.decisions` - the decisions file\n",
    "* `s.output_control` - defines what variables to write out\n",
    "* `s.force_file_list` - a listing of all of the forcing files to use\n",
    "* `s.local_attributes` - describes GRU/HRU attributes (lat, lon, elevation, etc)\n",
    "* `s.local_param_info` - listing of spatially constant local (HRU) parameter values\n",
    "* `s.basin_param_info` - listing of spatially constant basin (GRU) parameter values\n",
    "* `s.parameter_trial` - spatially distributed parameter values (will overwrite `local_param_info` values, can be either HRU or GRU)\n",
    "\n",
    "Most of these objects have a similar interface defined, with exceptions being `local_attributes` and `parameter_trial`. Those two are standard `xarray` datasets. All others follow the simple API:\n",
    "\n",
    "```\n",
    "print(x)                   # Show the data as SUMMA reads it\n",
    "x.get_option(NAME)         # Get an option\n",
    "x.set_option(NAME, VALUE)  # Change an option\n",
    "x.remove_option(NAME)      # Remove an option\n",
    "```\n",
    "\n",
    "More intuitively, you can use `key` - `value` type indexing like dictionaries, dataframes, and datasets:\n",
    "\n",
    "```\n",
    "print(x['key'])    # Get an option\n",
    "x['key'] = value   # Change an option\n",
    "```"
   ]
  },
  {
   "cell_type": "markdown",
   "metadata": {},
   "source": [
    "### Setting decisions\n",
    "\n",
    "So, now that we've got a handle on what's available and what you can do with it, let's actually try some of this out. First let's just print out our decisions file so we can see what's in the defaults.\n"
   ]
  },
  {
   "cell_type": "code",
   "execution_count": null,
   "metadata": {},
   "outputs": [],
   "source": [
    "print(s.decisions)"
   ]
  },
  {
   "cell_type": "markdown",
   "metadata": {},
   "source": [
    "<br> \n",
    "\n",
    "Great, we can see what's in there. But to be able to change anything we need to know the available options for each decision. Let's look at how to do that. For arbitrary reasons we will look at the `snowIncept` option, which describes the parameterization for snow interception in the canopy. First we will get it from the `decisions` object directly, and then query what it can be changed to, then finally change the value to something else.\n",
    "\n",
    "<br>"
   ]
  },
  {
   "cell_type": "code",
   "execution_count": null,
   "metadata": {},
   "outputs": [],
   "source": [
    "# Get just the `snowIncept` option\n",
    "print(s.decisions['snowIncept'])\n",
    "\n",
    "# Look at what we can set it to\n",
    "print(s.decisions['snowIncept'].available_options)\n",
    "\n",
    "# Change the value \n",
    "s.decisions['snowIncept'] = 'stickySnow'\n",
    "print(s.decisions['snowIncept'])"
   ]
  },
  {
   "cell_type": "markdown",
   "metadata": {},
   "source": [
    "<br>\n",
    "\n",
    "### Changing parameters\n",
    "\n",
    "Much like the decisions we can manipulate the `local_param_info` file. First, let's look at what's contained in it"
   ]
  },
  {
   "cell_type": "code",
   "execution_count": null,
   "metadata": {},
   "outputs": [],
   "source": [
    "print(s.local_param_info)"
   ]
  },
  {
   "cell_type": "markdown",
   "metadata": {},
   "source": [
    "<br>\n",
    "\n",
    "<br>\n",
    "\n",
    "Yikes, that's pretty long. Okay but we can change things. See:"
   ]
  },
  {
   "cell_type": "code",
   "execution_count": null,
   "metadata": {},
   "outputs": [],
   "source": [
    "# Print it\n",
    "print(s.local_param_info['albedoMax'])\n",
    "\n",
    "# Change the value\n",
    "s.local_param_info['albedoMax'] = 0.9\n",
    "print(s.local_param_info['albedoMax'])"
   ]
  },
  {
   "cell_type": "markdown",
   "metadata": {},
   "source": [
    "<br>\n",
    "\n",
    "### Modifying output\n",
    "And one more, we can also modify what get's written to output. \n",
    "The output control file represents the options available through columns of numeric values.\n",
    "These numbers represent how to write the output. \n",
    "From the SUMMA documentation they are arranged as:\n",
    "\n",
    "```\n",
    "! varName          | outFreq | inst | sum | mean | var | min | max | mode\n",
    "```\n",
    "\n",
    "As before, let's look at what's in the `output_control` by simply printing it out.\n",
    "\n",
    "<br>"
   ]
  },
  {
   "cell_type": "code",
   "execution_count": null,
   "metadata": {},
   "outputs": [],
   "source": [
    "print(s.output_control)"
   ]
  },
  {
   "cell_type": "markdown",
   "metadata": {},
   "source": [
    "<br>\n",
    "\n",
    "Then, we can modify values in a couple of ways.\n",
    "\n",
    "<br>"
   ]
  },
  {
   "cell_type": "code",
   "execution_count": null,
   "metadata": {},
   "outputs": [],
   "source": [
    "# Just change the frequency to daily output\n",
    "print(s.output_control['scalarNetRadiation'])\n",
    "print(s.output_control['scalarNetRadiation'].statistic)\n",
    "\n",
    "# Change the output statistic from instantaneous to sum\n",
    "s.output_control['scalarNetRadiation'] = [1, 1, 0, 0, 0, 0, 0, 0]\n",
    "s.output_control['scalarSnowAge'] = [1, 1, 0, 0, 0, 0, 0, 0]\n",
    "print(s.output_control['scalarNetRadiation'])\n",
    "print(s.output_control['scalarNetRadiation'].statistic)\n",
    "\n",
    "# We could also be more verbose:\n",
    "s.output_control['scalarNetRadiation'] = {\n",
    "    'period': 1, 'instant': 1, 'sum': 0, \n",
    "    'mean': 0, 'variance': 0, 'min': 0, 'max': 0\n",
    "}\n",
    "print(s.output_control['scalarNetRadiation'])\n",
    "print(s.output_control['scalarNetRadiation'].statistic)"
   ]
  },
  {
   "cell_type": "markdown",
   "metadata": {},
   "source": [
    "<br>\n",
    "\n",
    "## Running pysumma and manipulating output\n",
    "\n",
    "Now that you've had an overview of how you can interact with SUMMA configurations through pysumma let's run a simulation. \n",
    "Before doing so we will reset our `Simulation` object, which will discard all of the changes we've made and load in a clean setup. \n",
    "Alternatively you could simply instantiate a new `Simulation` object.\n",
    "We will also modify the start and finish times of the simulation to speed things up, as well as add a few more variables to the output to demonstrate some plotting capabilities\n",
    "After running the simulation, we will make sure that it completed successfully by checking the status.\n",
    "With a complete run, we can look at the output simply by using the simulation's `output` attribute.\n",
    "It is simply an xarray dataset, which can be manipulated in all of the usual ways."
   ]
  },
  {
   "cell_type": "code",
   "execution_count": null,
   "metadata": {},
   "outputs": [],
   "source": [
    "s.reset()\n",
    "# Or you could just create a new simulation object like before:\n",
    "#s = ps.Simulation(executable, file_manager)\n",
    "\n",
    "# Shorten the simulation length\n",
    "s.decisions['simulStart'] = '2010-10-01 00:00'\n",
    "s.decisions['simulFinsh'] = '2012-10-01 00:00'\n",
    "\n",
    "# Add in some additional variables so we can demonstrate plotting capabilities\n",
    "output_settings = {'period': 1, 'instant': 0, 'sum': 1, \n",
    "              'mean': 0, 'variance': 0, 'min': 0, 'max': 0}\n",
    "layer_vars = ['mLayerTemp', 'mLayerDepth', 'mLayerHeight',\n",
    "              'mLayerLiqFluxSoil', 'mLayerVolFracIce', 'mLayerVolFracLiq', \n",
    "              'mLayerVolFracWat','mLayerMatricHead', 'iLayerHeight', 'scalarSnowDepth']\n",
    "\n",
    "# Create the new variables\n",
    "for var in layer_vars:\n",
    "    s.output_control[var] = output_settings\n",
    "\n",
    "# Ensure all variables have the same statistics\n",
    "all_vars = set(layer_vars + [o.name for o in s.output_control.options])\n",
    "for var in all_vars:\n",
    "    s.output_control[var] = output_settings"
   ]
  },
  {
   "cell_type": "code",
   "execution_count": null,
   "metadata": {},
   "outputs": [],
   "source": [
    "s.run('local', run_suffix='_default')\n",
    "print(s.status)"
   ]
  },
  {
   "cell_type": "markdown",
   "metadata": {},
   "source": [
    "You should have gotten a `'Success'` printed out after running the simulation. For further details about the simulation you can look at the full output log that SUMMA produces by printing out `s.stdout`. In the event that `s.status` does not return `Success` you may wish to inspect this log to diagnose the problem further."
   ]
  },
  {
   "cell_type": "code",
   "execution_count": null,
   "metadata": {},
   "outputs": [],
   "source": [
    "print(s.stdout)"
   ]
  },
  {
   "cell_type": "markdown",
   "metadata": {},
   "source": [
    "<br>\n",
    "\n",
    "## Plotting\n",
    "\n",
    "Now that we've got some output we can plot some results. Because the output is an xarray `DataSet` we can use the convenient plotting capabilities provided by xarray."
   ]
  },
  {
   "cell_type": "code",
   "execution_count": null,
   "metadata": {},
   "outputs": [],
   "source": [
    "s.output['scalarSWE'].plot(label='SUMMA')\n",
    "plt.legend()"
   ]
  },
  {
   "cell_type": "markdown",
   "metadata": {},
   "source": [
    "<br>\n",
    "\n",
    "Additionally, pysumma provides some more specialized plotting capabilitieswe. To access it we have the `ps.plotting` module. First, lets plot the vertical layers over time. For this we will use `ps.plotting.layers`, which requires two pieces of information. First, the variable that you want to plot. It should have both `time` and `midToto` dimensions. The first plot we will make will be the temperature, which uses the variable `mLayerTemp`, and the second will be the volumetric fraction of water content in each layer, which uses `mLayerVolFracWat`. To start out we will give these more convenient names.\n"
   ]
  },
  {
   "cell_type": "code",
   "execution_count": null,
   "metadata": {},
   "outputs": [],
   "source": [
    "depth = s.output.sel(hru=1)['iLayerHeight']\n",
    "temp = s.output.sel(hru=1)['mLayerTemp']\n",
    "frac_wat = s.output.sel(hru=1)['mLayerVolFracWat']"
   ]
  },
  {
   "cell_type": "markdown",
   "metadata": {},
   "source": [
    "Now we can plot this using our function. For the temperature plot we will set `plot_soil` to `False` so that we only plot the snowpack. We can see that the top layers of the snowpack respond more quickly to the changing air temperature, and that later in the season the warmer air causes temperature transmission to lower layers and ultimately melts out. "
   ]
  },
  {
   "cell_type": "code",
   "execution_count": null,
   "metadata": {},
   "outputs": [],
   "source": [
    "ps.plotting.layers(temp, depth, colormap='viridis', plot_soil=False, plot_snow=True)\n",
    "s.output['scalarSnowDepth'].plot(color='red', linewidth=2)"
   ]
  },
  {
   "cell_type": "markdown",
   "metadata": {},
   "source": [
    "By looking at the volumetric water content we can see even more details. Now we will set `plot_soil` to `True` so that we can see how snowmelt can cause water infiltration into the soil. For example, during the melt season in 2012 we can easily see how the snowmelt infiltrates into the ground."
   ]
  },
  {
   "cell_type": "code",
   "execution_count": null,
   "metadata": {},
   "outputs": [],
   "source": [
    "ps.plotting.layers(frac_wat, depth, colormap='Blues', plot_soil=True, plot_snow=True)\n",
    "s.output['scalarSnowDepth'].plot(color='red', linewidth=2)"
   ]
  },
  {
   "cell_type": "markdown",
   "metadata": {},
   "source": [
    "<br>\n",
    "\n",
    "Next, we will demonstrate the `ps.plotting.hovmoller` functionality. It allows us to see how a variable varies along different axes. For our example we will look at how the surface temperature varies across our of day and month of year. We can see both seasonal and diurnal trends.  Temperature peaks tend to occur during summer months in the early afternoon. The available options for time aggregation include `year`, `month`, `day`, `hour`, `dayofyear`, `week`, `dayofweek`, `weekday`, and `quarter`. For spatially distributed runs the `hovmoller` function can also aggregate over `latitude` and `longitude`."
   ]
  },
  {
   "cell_type": "code",
   "execution_count": null,
   "metadata": {},
   "outputs": [],
   "source": [
    "fig, ax = ps.plotting.hovmoller(s.output['scalarSurfaceTemp'], xdim='hour', ydim='month')\n",
    "ax.set_xlabel('Hour of day')\n",
    "ax.set_ylabel('Month of year')\n",
    "ax.set_title('Surface Temperature (K)')"
   ]
  }
 ],
 "metadata": {
  "kernelspec": {
   "display_name": "Python 3",
   "language": "python",
   "name": "python3"
  },
  "language_info": {
   "codemirror_mode": {
    "name": "ipython",
    "version": 3
   },
   "file_extension": ".py",
   "mimetype": "text/x-python",
   "name": "python",
   "nbconvert_exporter": "python",
   "pygments_lexer": "ipython3",
   "version": "3.7.3"
  }
 },
 "nbformat": 4,
 "nbformat_minor": 2
}
