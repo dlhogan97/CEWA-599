{
 "cells": [
  {
   "cell_type": "markdown",
   "metadata": {},
   "source": [
    "# Install SUMMA model configurations\n",
    "\n",
    "This notebook contains a couple of functions to install SUMMA model configurations that you can then further explore yourself. These model configurations are:\n",
    "\n",
    "* _SUMMA CUES site_: A SUMMA configuration for the CUES site, which has a lot of snow observations available [_[Bair et al., 2017](https://doi.org/10.3389/feart.2015.00058)_].\n",
    "\n",
    "    To install the SUMMA setup for the CUES, execute `install_summa_cues_site()` in a code cell at the end of this notebook. The SUMMA configuration will be installed in the directory: `/home/jovyan/data/cues`\n",
    "\n",
    "* _SUMMA Umpqua site_: This is a SUMMA setup for two locations in the Umpqua watershed in coastal Oregon. The setup is best used for snow modeling and uses data collected by Pascal Storck to investigate snow interception by vegetation in maritime climates [_[Storck et al., 2002](https://doi.org/10.1029/2002WR001281)_].\n",
    "\n",
    "    To install the SUMMA setup for the Umpqua, execute `install_summa_umpqua_site()` in a code cell at the end of this notebook. The SUMMA configuration will be installed in the directory: `/home/jovyan/data/umpqua`\n",
    "\n",
    "    \n",
    "Of course, after you type the code, you will need to run the cell as well. You can browse the directory structure for each of the model configurations in the built-in file manager to the left.\n"
   ]
  },
  {
   "cell_type": "code",
   "execution_count": 1,
   "metadata": {},
   "outputs": [],
   "source": [
    "import subprocess\n",
    "import tarfile\n",
    "import glob\n",
    "import os\n",
    "import re\n",
    "\n",
    "cues_source         = 'https://www.dropbox.com/s/b9kckn9qrpzguc5/cues.tar.gz?dl=1'\n",
    "umpqua_source       = 'https://www.dropbox.com/s/nk0t1qjl8iub722/umpqua.tar.gz?dl=1'\n",
    "\n",
    "def get_untar(source, destination, remove=True):\n",
    "\n",
    "    # download the tar file\n",
    "    tarfilename = '{}/download.tar.gz'.format(destination)\n",
    "    command = 'wget --max-redirect=20 -O {} {}'.format(tarfilename, source)\n",
    "    subprocess.run(command.split())\n",
    "    \n",
    "    # unpack the tar file\n",
    "    tar = tarfile.open(tarfilename, 'r:gz')\n",
    "    tar.extractall(destination)\n",
    "    \n",
    "    if remove:\n",
    "        # remove the tar file\n",
    "        os.unlink(tarfilename)\n",
    "    \n",
    "\n",
    "def install_summa_cues_site(destination='/home/jovyan/data'):\n",
    "    \n",
    "    # get tar file and unpack\n",
    "    get_untar(cues_source, destination)\n",
    "\n",
    "    # fix the path in the file manager(s)\n",
    "    ifiles = glob.glob('{}/**/*file_manager*.txt'.format(destination), recursive=True)\n",
    "    for ifile in ifiles:\n",
    "        with open(ifile, \"r\") as f:\n",
    "            content = f.readlines()\n",
    "        with open(ifile, \"w\") as f:\n",
    "            for line in content:\n",
    "                f.write(re.sub('./cues', '{}/cues'.format(destination), line))\n",
    "    \n",
    "    # Print message\n",
    "    print('cues installed in {}'.format(destination))\n",
    "\n",
    "def install_summa_umpqua_site(destination='/home/jovyan/data'):\n",
    "\n",
    "    # get tar file and unpack\n",
    "    get_untar(umpqua_source, destination)\n",
    "\n",
    "    # fix the path in the file manager(s)\n",
    "    ifiles = glob.glob('{}/**/umpqua/**/*fileManager*.txt'.format(destination), recursive=True)\n",
    "    for ifile in ifiles:\n",
    "        with open(ifile, \"r\") as f:\n",
    "            content = f.readlines()\n",
    "        with open(ifile, \"w\") as f:\n",
    "            for line in content:\n",
    "                f.write(re.sub('./umpqua', '{}/umpqua'.format(destination), line))\n",
    "                \n",
    "    # Print message\n",
    "    print('umpqua installed in {}'.format(destination))\n"
   ]
  },
  {
   "cell_type": "code",
   "execution_count": 2,
   "metadata": {},
   "outputs": [
    {
     "name": "stdout",
     "output_type": "stream",
     "text": [
      "cues installed in /home/jovyan/data\n"
     ]
    }
   ],
   "source": [
    "# To install the SUMMA configurations for the CUES site execute the following command:\n",
    "install_summa_cues_site()"
   ]
  },
  {
   "cell_type": "code",
   "execution_count": 3,
   "metadata": {},
   "outputs": [
    {
     "name": "stdout",
     "output_type": "stream",
     "text": [
      "umpqua installed in /home/jovyan/data\n"
     ]
    }
   ],
   "source": [
    "# To install the SUMMA configurations for the Umpqua site execute the following command:\n",
    "install_summa_umpqua_site()"
   ]
  },
  {
   "cell_type": "code",
   "execution_count": null,
   "metadata": {},
   "outputs": [],
   "source": []
  }
 ],
 "metadata": {
  "kernelspec": {
   "display_name": "Python 3",
   "language": "python",
   "name": "python3"
  },
  "language_info": {
   "codemirror_mode": {
    "name": "ipython",
    "version": 3
   },
   "file_extension": ".py",
   "mimetype": "text/x-python",
   "name": "python",
   "nbconvert_exporter": "python",
   "pygments_lexer": "ipython3",
   "version": "3.8.6"
  }
 },
 "nbformat": 4,
 "nbformat_minor": 4
}
