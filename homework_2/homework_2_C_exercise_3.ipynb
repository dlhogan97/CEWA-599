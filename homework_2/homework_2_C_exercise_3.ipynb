{
 "cells": [
  {
   "cell_type": "markdown",
   "metadata": {},
   "source": [
    "# Homework 2 : CUAHSI VU : Snow Hydrology"
   ]
  },
  {
   "cell_type": "markdown",
   "metadata": {},
   "source": [
    "We'll use the setup from the `homework_1_A_exercise_1.ipynb` notebook for this exercise as well. If you think that you broke that setup in the previous exercise, just rerun the setup cell in `homework_2_A_exercise_1.ipynb` before continuing."
   ]
  },
  {
   "cell_type": "markdown",
   "metadata": {},
   "source": [
    "As before, remember that you want to save your notebooks in a place other than the `examples` directory tree, because files you save there will be deleted and overwritten the next time you start your virtual machine. Save your files somewhere in the `work` directory tree: `work/homework_1` would be a great place for them. So click on \"_File --> Save Notebook As..._\" and save this notebook as `work/homework_2/homework_2_C_exercise_3.ipynb` before you continue. If things go hopelessly wrong, you can always start over again with the original notebook in your `examples` directory tree."
   ]
  },
  {
   "cell_type": "markdown",
   "metadata": {},
   "source": [
    "## Homework 2 Exercise 3"
   ]
  },
  {
   "cell_type": "markdown",
   "metadata": {},
   "source": [
    "### Setup"
   ]
  },
  {
   "cell_type": "code",
   "execution_count": 1,
   "metadata": {},
   "outputs": [],
   "source": [
    "%matplotlib inline\n",
    "import matplotlib.pyplot as plt # if you want to do some plotting using matplotlib (optional)\n",
    "import pysumma as ps"
   ]
  },
  {
   "cell_type": "code",
   "execution_count": null,
   "metadata": {},
   "outputs": [],
   "source": [
    "executable = 'summa.exe'\n",
    "filemanager = './cues/summa_setup/file_manager.txt'"
   ]
  },
  {
   "cell_type": "markdown",
   "metadata": {},
   "source": [
    "### Modify the drainage rate through the snow pack"
   ]
  },
  {
   "cell_type": "markdown",
   "metadata": {},
   "source": [
    "In this exercise we will modify the drainage rate through the snow pack. We will only modify model parameters rather than model options. The model parameters that we will change are:\n",
    "\n",
    "* `Fcapil` - capillary retention as a fraction of the total pore volume ($-$)\n",
    "* `k_snow` - hydraulic conductivity of snow ($m\\,s^{-1}$)\n",
    "* `mw_exp` - exponent for meltwater flow ($-$)\n",
    "\n",
    "You should examine the following five scenarios. "
   ]
  },
  {
   "cell_type": "markdown",
   "metadata": {},
   "source": [
    "* Use the default setup (same as in exercises 1 and 2)\n",
    "```\n",
    "Fcapil : 0.0600\n",
    "k_snow : 0.0150\n",
    "mw_exp : 3.0000\n",
    "```"
   ]
  },
  {
   "cell_type": "markdown",
   "metadata": {},
   "source": [
    "* Reduce the capillary retention by a factor of three\n",
    "```\n",
    "Fcapil : 0.0200\n",
    "k_snow : 0.0150\n",
    "mw_exp : 3.0000\n",
    "```"
   ]
  },
  {
   "cell_type": "markdown",
   "metadata": {},
   "source": [
    "* Double the hydraulic conductivity of snow\n",
    "```\n",
    "Fcapil : 0.0600\n",
    "k_snow : 0.0300\n",
    "mw_exp : 3.0000\n",
    "```"
   ]
  },
  {
   "cell_type": "markdown",
   "metadata": {},
   "source": [
    "* Set mw_exp to 1.0 (exponent of melt water flow)\n",
    "```\n",
    "Fcapil : 0.0600\n",
    "k_snow : 0.0150\n",
    "mw_exp : 1.0000\n",
    "```"
   ]
  },
  {
   "cell_type": "markdown",
   "metadata": {},
   "source": [
    "* Combine all previous changes\n",
    "```\n",
    "Fcapil : 0.0200\n",
    "k_snow : 0.0300\n",
    "mw_exp : 1.0000\n",
    "```"
   ]
  },
  {
   "cell_type": "markdown",
   "metadata": {},
   "source": [
    "## On to the next step\n",
    "\n",
    "Before you go on reset the parameters to\n",
    "```\n",
    "Fcapil - 0.0600\n",
    "k_snow - 0.0150\n",
    "mw_exp - 3.0000\n",
    "```\n",
    "\n",
    "That's it for the third part of the first homework as far as the model simulations go. Prof. Lundquist will talk more about the analysis that you need to do on these simulations. You can do the analysis here in this notebook if python is your analysis software of choice or you can upload your output to HydroShare (in NetCDF or csv format) to do additional analysis.\n",
    "\n",
    "Save this notebook and close the tab. You can also right-click on the file in the left panel if it has a green dot next to it and select \"_Shutdown kernel_\" from the popup menu to stop the python session that is executing the commands in this notebook. You are now done with all the model simulations for the first homework. \n",
    "\n",
    "On to model analysis! (there is no notebook for that)"
   ]
  },
  {
   "cell_type": "code",
   "execution_count": null,
   "metadata": {},
   "outputs": [],
   "source": []
  }
 ],
 "metadata": {
  "kernelspec": {
   "display_name": "Python 3",
   "language": "python",
   "name": "python3"
  },
  "language_info": {
   "codemirror_mode": {
    "name": "ipython",
    "version": 3
   },
   "file_extension": ".py",
   "mimetype": "text/x-python",
   "name": "python",
   "nbconvert_exporter": "python",
   "pygments_lexer": "ipython3",
   "version": "3.7.3"
  }
 },
 "nbformat": 4,
 "nbformat_minor": 2
}
