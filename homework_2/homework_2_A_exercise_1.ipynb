{
 "cells": [
  {
   "cell_type": "markdown",
   "metadata": {},
   "source": [
    "# Homework 2 : CUAHSI VU : Snow Hydrology"
   ]
  },
  {
   "cell_type": "markdown",
   "metadata": {},
   "source": [
    "This notebook will be relatively short because this where the real work starts and most of the notebook will be written by you (or at least that is the plan). We'll do three exercises in this homework:\n",
    "\n",
    "* Homework 1 exercise 1: Change the snow layering scheme\n",
    "\n",
    "* Homework 1 exercise 2: Change the albedo formulation and albedo parameters\n",
    "\n",
    "* Homework 1 exercise 3: Change the parameters controlling drainage through the snow pack\n"
   ]
  },
  {
   "cell_type": "markdown",
   "metadata": {},
   "source": [
    "As before, remember that you want to save your notebooks in a place other than the `examples` directory tree, because files you save there may be deleted and overwritten the next time you start your virtual machine. Save your files somewhere in the `work` directory tree: `work/homework_2` would be a great place for them. So click on \"_File --> Save Notebook As..._\" and save this notebook as `work/homework_2/homework_2_A_exercise_1.ipynb` before you continue. If things go hopelessly wrong, you can always start over again with the original notebook in your `cuahsi_vu_2019` directory tree."
   ]
  },
  {
   "cell_type": "markdown",
   "metadata": {},
   "source": [
    "## Homework 1 Exercise 1"
   ]
  },
  {
   "cell_type": "markdown",
   "metadata": {},
   "source": [
    "### Setup\n",
    "\n",
    "First, let's copy the CUES setup and set it up for use in this exercise. If you ever run into reproducibility problems, you can return here for a fresh start."
   ]
  },
  {
   "cell_type": "code",
   "execution_count": null,
   "metadata": {},
   "outputs": [],
   "source": [
    "! cp -r ~/cues . && cd cues/summa_setup/ && ./install_local_setup.sh"
   ]
  },
  {
   "cell_type": "markdown",
   "metadata": {},
   "source": [
    "We'll import some of the python modules that you are likely to need right up front. Note that you only need to do this once in a notebook. As long as you are working in the same session, the modules will remain loaded for the duration of that session."
   ]
  },
  {
   "cell_type": "code",
   "execution_count": null,
   "metadata": {},
   "outputs": [],
   "source": [
    "%matplotlib inline\n",
    "import matplotlib.pyplot as plt # if you want to do some plotting using matplotlib (optional)\n",
    "import pysumma as ps"
   ]
  },
  {
   "cell_type": "markdown",
   "metadata": {},
   "source": [
    "We'll also set some variables to make sure that everyone is using the same setup"
   ]
  },
  {
   "cell_type": "code",
   "execution_count": null,
   "metadata": {},
   "outputs": [],
   "source": [
    "executable = 'summa.exe'\n",
    "filemanager = './cues/summa_setup/file_manager.txt'"
   ]
  },
  {
   "cell_type": "markdown",
   "metadata": {},
   "source": [
    "### Change the snow layering scheme"
   ]
  },
  {
   "cell_type": "markdown",
   "metadata": {},
   "source": [
    "Snow models represent a snow pack as one or more layers of snow and keep track of how much water is stored in each layer (snow water equivalent or SWE) as well as other state variables such as temperature. The model then tracks the time evolution of these state variables in each layer as well as the fluxes of water and energy between the layers."
   ]
  },
  {
   "cell_type": "markdown",
   "metadata": {},
   "source": [
    "In SUMMA you can choose between two different methods to combine and sub-divide snow layers. This behavior is controlled by the `snowLayers` variable in the [SUMMA decisions file](https://summa.readthedocs.io/en/latest/input_output/SUMMA_input/#infile_model_decisions) and can take one of two values, either `CLM_2010` or `jrdn1991`. The first refers to how snow layers were handled in the Community Land Model (CLM), while the second refers the snow layering scheme in SNTHERM as describe in  Jordan (1991).\n",
    "\n",
    "Among others things, the `CLM_2010` only has a limited number of snow layers. The layers store a maximum amount of SWE and when SWE in a layer exceeds that value, a new layer is created. Similarly, when SWE in a layer falls below a minimum SWE, the layer is merged with a neighboring layer. Once the maximum number of layers has been created, the deepest layer can grow as deep as it needs to be and acts as snow reservoir with unlimited capacity. The `jrdn1991` scheme on the other hand keeps creating additional layers as the snow pack grows in depth.\n",
    "\n",
    "Here we will do four different simulations:\n",
    "\n",
    "* SUMMA with `CLM_2010`\n",
    "* SUMMA with `jrdn1991`\n",
    "* SUMMA with `CLM_2010`, but we will configure it to act as a two layer model (the default version uses five snow layers)\n",
    "* SUMMA with `CLM_2010`, a two layer model and a thick top layer."
   ]
  },
  {
   "cell_type": "markdown",
   "metadata": {},
   "source": [
    "So now it is up to you. Just to refresh your memory we'll show you how to get started and then will provide some hints along the way."
   ]
  },
  {
   "cell_type": "markdown",
   "metadata": {},
   "source": [
    "#### SUMMA with CLM_2010\n",
    "\n",
    "Create a simulation object. The path for the SUMMA code and the file manager (the SUMMA input file with information about all the other input files) are already defined above. We can use the same file manager file (but different simulation objects) for all the runs, just keep track of what you did."
   ]
  },
  {
   "cell_type": "code",
   "execution_count": null,
   "metadata": {},
   "outputs": [],
   "source": [
    "s_clm = ps.Simulation(executable, filemanager)\n",
    "\n",
    "# Shorten the simulation length\n",
    "s_clm.decisions['simulStart'] = '2010-10-01 00:00'\n",
    "s_clm.decisions['simulFinsh'] = '2012-10-01 00:00'\n",
    "\n",
    "# Add in some additional variables so we can demonstrate plotting capabilities\n",
    "output_settings = {'period': 1, 'instant': 0, 'sum': 1, \n",
    "              'mean': 0, 'variance': 0, 'min': 0, 'max': 0}\n",
    "layer_vars = ['mLayerTemp', 'mLayerDepth', 'mLayerHeight',\n",
    "              'mLayerLiqFluxSoil', 'mLayerVolFracIce', 'mLayerVolFracLiq', \n",
    "              'mLayerVolFracWat','mLayerMatricHead', 'iLayerHeight', 'scalarSnowDepth']\n",
    "\n",
    "# Create the new variables\n",
    "for var in layer_vars:\n",
    "    s_clm.output_control[var] = output_settings\n",
    "\n",
    "# Ensure all variables have the same statistics\n",
    "all_vars = set(layer_vars + [o.name for o in s_clm.output_control.options])\n",
    "for var in all_vars:\n",
    "    s_clm.output_control[var] = output_settings"
   ]
  },
  {
   "cell_type": "markdown",
   "metadata": {},
   "source": [
    "Use a `run_suffix` that uniquely identifies this run so that you can keep your runs apart, for example `CLM_2010`, and run the model. If you assign the results to its own dataset (e.g. `ds_clm_2010`) and output file (e.g. `file_clm_2010`) it will be easier to gather all the files and upload them to HydroShare (or you can do so one by one, this is all up to you). The run itself will take about a minute."
   ]
  },
  {
   "cell_type": "code",
   "execution_count": null,
   "metadata": {},
   "outputs": [],
   "source": [
    "s_clm.run('local', run_suffix='CLM_2010')"
   ]
  },
  {
   "cell_type": "code",
   "execution_count": null,
   "metadata": {},
   "outputs": [],
   "source": [
    "s_clm.output['nSnow'].sel(hru=1).plot()"
   ]
  },
  {
   "cell_type": "markdown",
   "metadata": {},
   "source": [
    "As you can see, the number of layers never exceeds five."
   ]
  },
  {
   "cell_type": "markdown",
   "metadata": {},
   "source": [
    "#### SUMMA with jrdn1991"
   ]
  },
  {
   "cell_type": "markdown",
   "metadata": {},
   "source": [
    "Repeat the exercise with the `jrdn1991` option for `snowLayers`. Examine the differences in the snow layers themselves, but also in other characteristics of snow pack evolution. In SUMMA, all other options will be the same between these two simulations unless you change things explicitly."
   ]
  },
  {
   "cell_type": "code",
   "execution_count": null,
   "metadata": {},
   "outputs": [],
   "source": [
    "s_jrdn = ps.Simulation(executable, filemanager)\n",
    "s_jrdn.decisions['snowLayers'] = 'jrdn1991'"
   ]
  },
  {
   "cell_type": "code",
   "execution_count": null,
   "metadata": {},
   "outputs": [],
   "source": [
    "s_jrdn.run('local', run_suffix='_jrdn')"
   ]
  },
  {
   "cell_type": "code",
   "execution_count": null,
   "metadata": {},
   "outputs": [],
   "source": [
    "print(s_jrdn.status)"
   ]
  },
  {
   "cell_type": "markdown",
   "metadata": {},
   "source": [
    "#### SUMMA with CLM_2010 configured as a  two layer model"
   ]
  },
  {
   "cell_type": "markdown",
   "metadata": {},
   "source": [
    "Now change the `snowLayers` option back to `CLM_2010` and configure the model to act as a two layer snow model rather than a five layer snow model. Two layer models are quite common. The surface layer is typically quite thin in these setups to respond quickly to changing atmospheric conditions, while the second layer acts as a snow reservoir with unlimited capacity.\n",
    "\n",
    "To configure the snow model as a two layer model, we need to change some model parameters. As in the pySUMMA tutorial, we can access and change these parameters with the `local_param_info` attribute of a `Simulation` object.\n"
   ]
  },
  {
   "cell_type": "code",
   "execution_count": null,
   "metadata": {},
   "outputs": [],
   "source": [
    "s_2layer = ps.Simulation(executable, filemanager)\n",
    "\n",
    "s_2layer.decisions['snowLayers'] = 'CLM_2010'\n",
    "\n",
    "s_2layer.local_param_info['zminLayer3'] = 100.0000\n",
    "s_2layer.local_param_info['zminLayer4'] = 100.0000\n",
    "s_2layer.local_param_info['zminLayer5'] = 100.0000\n",
    "s_2layer.local_param_info['zmaxLayer2_lower'] = 1000.0000\n",
    "s_2layer.local_param_info['zmaxLayer3_lower'] = 1000.0000\n",
    "s_2layer.local_param_info['zmaxLayer4_lower'] = 1000.0000\n",
    "s_2layer.local_param_info['zmaxLayer2_upper'] = 1000.0000\n",
    "s_2layer.local_param_info['zmaxLayer3_upper'] = 1000.0000\n",
    "s_2layer.local_param_info['zmaxLayer4_upper'] = 1000.0000"
   ]
  },
  {
   "cell_type": "markdown",
   "metadata": {},
   "source": [
    "Now go ahead and run the model. "
   ]
  },
  {
   "cell_type": "code",
   "execution_count": null,
   "metadata": {},
   "outputs": [],
   "source": [
    "s_2layer.run('local', run_suffix='_2layer')"
   ]
  },
  {
   "cell_type": "code",
   "execution_count": null,
   "metadata": {},
   "outputs": [],
   "source": [
    "print(s_2layer.status)"
   ]
  },
  {
   "cell_type": "markdown",
   "metadata": {},
   "source": [
    "#### SUMMA with CLM_2010 configured as a two layer model with a thick top layer"
   ]
  },
  {
   "cell_type": "markdown",
   "metadata": {},
   "source": [
    "One more run with `CLM_2010`, two layers, and a thick top layer. To do this, change the local parameters to"
   ]
  },
  {
   "cell_type": "code",
   "execution_count": null,
   "metadata": {},
   "outputs": [],
   "source": [
    "s_thick = ps.Simulation(executable, filemanager)\n",
    "\n",
    "s_thick.decisions['snowLayers'] = 'CLM_2010'\n",
    "\n",
    "s_thick.local_param_info['zminLayer1'] = 0.050\n",
    "s_thick.local_param_info['zminLayer2'] = 0.020\n",
    "s_thick.local_param_info['zminLayer3'] = 100.0\n",
    "s_thick.local_param_info['zminLayer4'] = 100.0\n",
    "s_thick.local_param_info['zminLayer5'] = 100.0\n",
    "s_thick.local_param_info['zmaxLayer1_lower'] = 0.2000\n",
    "s_thick.local_param_info['zmaxLayer2_lower'] = 1000.0\n",
    "s_thick.local_param_info['zmaxLayer3_lower'] = 1000.0\n",
    "s_thick.local_param_info['zmaxLayer4_lower'] = 1000.0\n",
    "s_thick.local_param_info['zmaxLayer1_upper'] = 0.1500\n",
    "s_thick.local_param_info['zmaxLayer2_upper'] = 1000.0\n",
    "s_thick.local_param_info['zmaxLayer3_upper'] = 1000.0\n",
    "s_thick.local_param_info['zmaxLayer4_upper'] = 1000.0"
   ]
  },
  {
   "cell_type": "code",
   "execution_count": null,
   "metadata": {},
   "outputs": [],
   "source": [
    "s_thick.run('local', run_suffix='_thick')"
   ]
  },
  {
   "cell_type": "code",
   "execution_count": null,
   "metadata": {},
   "outputs": [],
   "source": [
    "print(s_thick.status)"
   ]
  },
  {
   "cell_type": "markdown",
   "metadata": {},
   "source": [
    "### Plotting\n",
    "\n",
    "To examine how these changes impact the model output make some plots. Below is just an example comparing the amount of SWE across the four runs. You may wish to try some other plots, such as the layering plots described in the pySUMMA tutorial."
   ]
  },
  {
   "cell_type": "code",
   "execution_count": null,
   "metadata": {},
   "outputs": [],
   "source": [
    "s_clm.output['scalarSWE'].plot(label='CLM layering')\n",
    "s_jrdn.output['scalarSWE'].plot(label='Jordan1991 layering')\n",
    "s_2layer.output['scalarSWE'].plot(label='Thin 2 layer')\n",
    "s_thick.output['scalarSWE'].plot(label='Thick 2 layer')\n",
    "plt.legend()"
   ]
  },
  {
   "cell_type": "markdown",
   "metadata": {},
   "source": [
    "After you are done, restore the local parameters to the original values, because we will use the same setup in the next notebook. This can be done with the following cell. Basically, we take the initial `s_clm` `Simulation` object and re-write it's configuration which overwrites any changes made by the other simulations we ran. If you try this and it doesn't seem to work, or things go really wrong some other way you can rerun the setup cell at the beginning of this notebook and start with a clean slate."
   ]
  },
  {
   "cell_type": "code",
   "execution_count": null,
   "metadata": {},
   "outputs": [],
   "source": [
    "s_clm._write_configuration()"
   ]
  },
  {
   "cell_type": "markdown",
   "metadata": {},
   "source": [
    "## On to the next step"
   ]
  },
  {
   "cell_type": "markdown",
   "metadata": {},
   "source": [
    "That's it for the first part of the first homework as far as the model simulations go. Prof. Lundquist will talk more about the analysis that you need to do on these simulations. You can do the analysis here in this notebook if python is your analysis software of choice or you can upload your output to HydroShare (in NetCDF or csv format) to do additional analysis."
   ]
  },
  {
   "cell_type": "markdown",
   "metadata": {},
   "source": [
    "Save this notebook and close the tab. You can also right-click on the file in the left panel if it has a green dot next to it and select \"_Shutdown kernel_\" from the popup menu to stop the python session that is executing the commands in this notebook. Then open the next notebook: \n",
    "`work/homework_2/homework_2_B_exercise_2.ipynb`."
   ]
  },
  {
   "cell_type": "markdown",
   "metadata": {},
   "source": [
    "## References\n",
    "\n",
    "* Jordan, R., 1991: A one-dimensional temperature model for a snow cover. Technical documentation for SNTHERM.89. U.S. Army Corps of Engineers Cold Regions Research and Engineering Laboratory, 49 pp."
   ]
  }
 ],
 "metadata": {
  "kernelspec": {
   "display_name": "Python 3",
   "language": "python",
   "name": "python3"
  },
  "language_info": {
   "codemirror_mode": {
    "name": "ipython",
    "version": 3
   },
   "file_extension": ".py",
   "mimetype": "text/x-python",
   "name": "python",
   "nbconvert_exporter": "python",
   "pygments_lexer": "ipython3",
   "version": "3.7.3"
  }
 },
 "nbformat": 4,
 "nbformat_minor": 2
}
