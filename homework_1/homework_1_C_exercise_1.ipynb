{
 "cells": [
  {
   "cell_type": "markdown",
   "metadata": {},
   "source": [
    "# Homework 1 : CUAHSI VU : Snow Hydrology"
   ]
  },
  {
   "cell_type": "markdown",
   "metadata": {},
   "source": [
    "We'll use the setup from the `homework_1_B_setup.ipynb` notebook for this exercise. If you think that you comprised that setup in a previous exercise, just rerun `homework_1_B_setup.ipynb` before continuing."
   ]
  },
  {
   "cell_type": "markdown",
   "metadata": {},
   "source": [
    "## C. Homework 1 Exercise 1"
   ]
  },
  {
   "cell_type": "markdown",
   "metadata": {},
   "source": [
    "This first exercise is mostly just a walk-through that will demonstrate the effects of wind speed on the snow simulations. To do this, we will \n",
    "* perform a baseline simulation with the original forcing data, \n",
    "* read the original forcing file into an `xarray Dataset`, \n",
    "* modify the wind speed for one of the hrus,\n",
    "* write the new forcings to a new file, and \n",
    "* perform a second simulation. \n",
    "\n",
    "To make sure that this second simulation uses the new forcing file, we need to modify the SUMMA input file that points to the forcing file to be used (the [forcing file list](https://summa.readthedocs.io/en/latest/input_output/SUMMA_input/#list-of-forcing-files-file)). \n",
    "\n",
    "In addition to all this, we will also compare the simulations with observations. We will show an example below. Don't worry, you'll get to do all this yourself in following notebooks."
   ]
  },
  {
   "cell_type": "markdown",
   "metadata": {},
   "source": [
    "### Setup"
   ]
  },
  {
   "cell_type": "code",
   "execution_count": null,
   "metadata": {},
   "outputs": [],
   "source": [
    "%matplotlib inline\n",
    "import matplotlib.pyplot as plt # if you want to do some plotting using matplotlib (optional)\n",
    "import numpy as np # provide some mathematical functions\n",
    "import xarray as xr # read, write, manipulate and analyze NetCDF files\n",
    "cycle = plt.rcParams['axes.prop_cycle'].by_key()['color']\n",
    "import warnings\n",
    "warnings.filterwarnings('ignore')\n",
    "import pysumma as ps"
   ]
  },
  {
   "cell_type": "code",
   "execution_count": null,
   "metadata": {},
   "outputs": [],
   "source": [
    "filemanager = './umpqua/settings/snow_fileManager.txt'\n",
    "executable = 'summa.exe'"
   ]
  },
  {
   "cell_type": "markdown",
   "metadata": {},
   "source": [
    "### Effect of wind speed on snow simulations"
   ]
  },
  {
   "cell_type": "markdown",
   "metadata": {},
   "source": [
    "We first perform a simulation using the baseline forcing data (this is the same simulation as in `homework_1_B_setup.ipynb`. To do this, we create a SUMMA simulation object and run the model and tag the simulation with the identifier `baseline`."
   ]
  },
  {
   "cell_type": "code",
   "execution_count": null,
   "metadata": {},
   "outputs": [],
   "source": [
    "s = ps.Simulation(executable, filemanager)\n",
    "s.run('local', run_suffix='baseline')"
   ]
  },
  {
   "cell_type": "markdown",
   "metadata": {},
   "source": [
    "When we plot the SWE for this simulations, we see that the snow in the clearing and in the forest reach about the same maximum and that there it persists longer in the forest, which is somewhat counter-intuitive:"
   ]
  },
  {
   "cell_type": "code",
   "execution_count": null,
   "metadata": {},
   "outputs": [],
   "source": [
    "s.output['scalarSWE'].isel(hru=0).plot(label='Clearing')\n",
    "s.output['scalarSWE'].isel(hru=1).plot(label='Forest')\n",
    "plt.legend()"
   ]
  },
  {
   "cell_type": "markdown",
   "metadata": {},
   "source": [
    "Pascal Storck took SWE measurements in the clearing and the forest, which are available to you in `/home/jovyan/work/umpqua/observations/Storck_9697_SWE_obs.nc`. Can you read this file with"
   ]
  },
  {
   "cell_type": "code",
   "execution_count": null,
   "metadata": {},
   "outputs": [],
   "source": [
    "swe_file = './umpqua/observations/Storck_9697_SWE_obs.nc'\n",
    "swe_obs = xr.open_dataset(swe_file)"
   ]
  },
  {
   "cell_type": "markdown",
   "metadata": {},
   "source": [
    "When we plot the observations with the model simulations"
   ]
  },
  {
   "cell_type": "code",
   "execution_count": null,
   "metadata": {},
   "outputs": [],
   "source": [
    "plt.figure(figsize=(10,6))\n",
    "s.output['scalarSWE'].isel(hru=0).plot(label='Clearing -- sim', \n",
    "                                       color=cycle[0], linestyle='-')\n",
    "s.output['scalarSWE'].isel(hru=1).plot(label='Forest -- sim',\n",
    "                                       color=cycle[1], linestyle='-')\n",
    "swe_obs['SWE'].isel(hru=0).plot(label='Clearing -- obs',\n",
    "                             color=cycle[0], linestyle='--')\n",
    "swe_obs['SWE'].isel(hru=1).plot(label='Forest -- obs',\n",
    "                             color=cycle[1], linestyle='--')\n",
    "max_swe = max(s.output['scalarSWE'].max(), swe_obs['SWE'].max())\n",
    "plt.ylim(0,max_swe)\n",
    "plt.legend()"
   ]
  },
  {
   "cell_type": "markdown",
   "metadata": {},
   "source": [
    "While that does not look too bad for the clearing, the simulations at the forested site don't look right. In the observations we see much less accumulation under the tree canopy, but we do not see this effect in the simulations.\n",
    "\n",
    "One of the reasons for this is that we are using the same meteorological forcings for both the clearing and forested site. \n",
    "\n",
    "Let's take a look at the forcings. To do this, open the forcing file for this simulation and read the file into an `xarray Dataset` object. Note that the name of the forcing file is stored in the forcing list file. The location of that file is"
   ]
  },
  {
   "cell_type": "code",
   "execution_count": null,
   "metadata": {},
   "outputs": [],
   "source": [
    "print(s.force_file_list.original_path)"
   ]
  },
  {
   "cell_type": "markdown",
   "metadata": {},
   "source": [
    "To change the path of the forcing file we have to do a bit more work. Because SUMMA allows for multiple forcing files we have to select them out by index. We can look at each entry in the forcing file list with the `options` attribute. Each `option` in the forcing file list has a `name` and a `value`. The `name` is the complete forcing file path and the value is the actual data in the forcing file. Let's look at each of them here"
   ]
  },
  {
   "cell_type": "code",
   "execution_count": null,
   "metadata": {},
   "outputs": [],
   "source": [
    "force_file_obs = s.force_file_list.options[0].name\n",
    "force_file_obs"
   ]
  },
  {
   "cell_type": "markdown",
   "metadata": {},
   "source": [
    "If you look in that file, you will see that the name of the forcing file is `Storck_AboveCanopyPP_9697.nc`. We can actually get the data by accessing the value directly"
   ]
  },
  {
   "cell_type": "code",
   "execution_count": null,
   "metadata": {},
   "outputs": [],
   "source": [
    "force_obs = s.force_file_list.options[0].value\n",
    "force_obs"
   ]
  },
  {
   "cell_type": "markdown",
   "metadata": {},
   "source": [
    "We can quickly examine the differences in the forcings between the two hrus by subtracting the forcing data for the two hrus and taking the mean (just showing some xarray features). "
   ]
  },
  {
   "cell_type": "code",
   "execution_count": null,
   "metadata": {},
   "outputs": [],
   "source": [
    "(force_obs.isel(hru=0)-force_obs.isel(hru=1)).mean()"
   ]
  },
  {
   "cell_type": "markdown",
   "metadata": {},
   "source": [
    "As you can see, subtracting the two hrus in the `xarray Dataset` will actually subtract all the forcing fields that are in that dataset and the mean difference is 0 for all meteorological variables."
   ]
  },
  {
   "cell_type": "markdown",
   "metadata": {},
   "source": [
    "Now keep in mind that SUMMA expects that the forcing variables are specified above the top canopy layer. For most of the forcing variables it may make not much difference whether you take the measurement in a (large) clearing or above the tree canopy (to first order). However, one forcing variable that will definitely be different is the wind speed, which is much lower nearer to the ground in a clearing then above the tree canopy. So using the same wind speed for both simulations is not very realistic. "
   ]
  },
  {
   "cell_type": "markdown",
   "metadata": {},
   "source": [
    "Now we can actually estimate the mean difference in the wind speed in the clearing and above the tree canopy by making some assumptions about the wind profile near the surface (see lectures). In this case, it turns out that the wind speed above the forest is about 1.6 times greater than the wind speed in the clearing. So let's adjust the wind speed for hru 1 and rerun the simulations."
   ]
  },
  {
   "cell_type": "markdown",
   "metadata": {},
   "source": [
    "To do so, we make a copy of the `force_obs` dataset and will write that to a new input file. Note that in `xarray` you need to use `.copy(deep=True)` when you make the copy. Otherwise the original dataset (`force_obs`) will also be modified when you change your copy (`force_wind`)."
   ]
  },
  {
   "cell_type": "code",
   "execution_count": null,
   "metadata": {},
   "outputs": [],
   "source": [
    "force_wind = force_obs.copy(deep=True)\n",
    "force_wind['windspd'].loc[{'hru': 1}] *= 1.6"
   ]
  },
  {
   "cell_type": "markdown",
   "metadata": {},
   "source": [
    "Let's plot the new wind speeds to make sure they now differ"
   ]
  },
  {
   "cell_type": "code",
   "execution_count": null,
   "metadata": {},
   "outputs": [],
   "source": [
    "force_wind['windspd'].isel(hru=0).plot(label='Clearing')\n",
    "force_wind['windspd'].isel(hru=1).plot(label='Forest')\n",
    "plt.ylim(0,force_wind['windspd'].max())\n",
    "plt.legend()"
   ]
  },
  {
   "cell_type": "markdown",
   "metadata": {},
   "source": [
    "We now want to write this to file and do a new simulation. We first create a new filename for the new file (we replace the '9697' in the original file name by '9697_rescaled_wind')"
   ]
  },
  {
   "cell_type": "code",
   "execution_count": null,
   "metadata": {},
   "outputs": [],
   "source": [
    "force_file_wind = force_file_obs.replace('9697', '9697_rescaled_wind')"
   ]
  },
  {
   "cell_type": "markdown",
   "metadata": {},
   "source": [
    "We then write the dataset to a NetCDF file (SUMMA expects the file in 'NETCDF3_CLASSIC' format)"
   ]
  },
  {
   "cell_type": "code",
   "execution_count": null,
   "metadata": {},
   "outputs": [],
   "source": [
    "force_wind.to_netcdf(force_file_wind, format='NETCDF3_CLASSIC')"
   ]
  },
  {
   "cell_type": "markdown",
   "metadata": {},
   "source": [
    "Now that we have the data written to the NetCDF file we need to write out the new forcing file list so that SUMMA can find it. We will first set the forcing file list to use the new forcing file that we just wrote out. Then we will write this back out as a new forcing file list."
   ]
  },
  {
   "cell_type": "code",
   "execution_count": null,
   "metadata": {},
   "outputs": [],
   "source": [
    "s.force_file_list.options[0].name = force_file_wind\n",
    "new_force_file = s.force_file_list.original_path.replace('.txt', '_rescaled_wind.txt')\n",
    "s.force_file_list.write(new_force_file)"
   ]
  },
  {
   "cell_type": "markdown",
   "metadata": {},
   "source": [
    "With our new forcing file list written out we will also write out a new file manager. This helps to keep all of our runs separated so that we can go back and compare them more easily. Just as with the forcing file list, we will update the entry for the forcing file list in the file manager, and then write that out to a new file."
   ]
  },
  {
   "cell_type": "code",
   "execution_count": null,
   "metadata": {},
   "outputs": [],
   "source": [
    "new_filemanager = s.manager_path.replace('.txt', '_rescaled_wind.txt') \n",
    "s.manager['forcing_file_list'] = new_force_file.split('/')[-1]\n",
    "s.manager.write(new_filemanager)"
   ]
  },
  {
   "cell_type": "markdown",
   "metadata": {},
   "source": [
    "Finally, our new file manager (with the new entry for the rescaled wind forcing) can be used to create a new `Simulation` object. We will create it and verify that we are using the new forcing file with the rescaled wind."
   ]
  },
  {
   "cell_type": "code",
   "execution_count": null,
   "metadata": {},
   "outputs": [],
   "source": [
    "s_windy = ps.Simulation(executable, new_filemanager)"
   ]
  },
  {
   "cell_type": "code",
   "execution_count": null,
   "metadata": {},
   "outputs": [],
   "source": [
    "print(s_windy.force_file_list)"
   ]
  },
  {
   "cell_type": "markdown",
   "metadata": {},
   "source": [
    "OK - now we are all set. Let's do the new simulation with the rescaled wind"
   ]
  },
  {
   "cell_type": "code",
   "execution_count": null,
   "metadata": {},
   "outputs": [],
   "source": [
    "s_windy.run('local', run_suffix='rescaled_wind')"
   ]
  },
  {
   "cell_type": "markdown",
   "metadata": {},
   "source": [
    "And let's replot the simulations and observations"
   ]
  },
  {
   "cell_type": "code",
   "execution_count": null,
   "metadata": {},
   "outputs": [],
   "source": [
    "plt.figure(figsize=(10,6))\n",
    "s_windy.output['scalarSWE'].isel(hru=0).plot(label='Clearing -- sim', \n",
    "                                             color=cycle[0], linestyle='-')\n",
    "s_windy.output['scalarSWE'].isel(hru=1).plot(label='Forest -- sim',\n",
    "                                             color=cycle[1], linestyle='-')\n",
    "swe_obs['SWE'].isel(hru=0).plot(label='Clearing -- obs',\n",
    "                             color=cycle[0], linestyle='--')\n",
    "swe_obs['SWE'].isel(hru=1).plot(label='Forest -- obs',\n",
    "                             color=cycle[1], linestyle='--')\n",
    "max_swe = max(s.output['scalarSWE'].max(), swe_obs['SWE'].max())\n",
    "plt.ylim(0,max_swe)\n",
    "plt.legend()"
   ]
  },
  {
   "cell_type": "markdown",
   "metadata": {},
   "source": [
    "While that still isn't perfect, these simulations look a lot better. We now get snow interception and increased sublimation from the canopy, which greatly reduces the snow pack below the canopy."
   ]
  },
  {
   "cell_type": "markdown",
   "metadata": {},
   "source": [
    "**Keep in mind that the file with the forcing file list now points to the rescaled wind file. If you want to rerun with any other forcing you will need to make sure that the file reported in `forcing_file_list` points to the right input file.**\n",
    "\n",
    "You can navigate to this file in the file browser to the left.\n",
    "\n",
    "In addition, the file with the updated forcing will not be overwritten or removed when you rerun the setup in `homework_1_B_setup.ipynb` until you explicitly overwrite it again (for example by rerunning this notebook)."
   ]
  },
  {
   "cell_type": "markdown",
   "metadata": {},
   "source": [
    "Finally a few hints and things to keep in mind: It is easy to get confused with the model setup and the simulations. If you make changes to the forcings and the simulations do not change, make sure that your simulation object actually reads the right forcing file.\n",
    "\n",
    "All the forcing files should end up in the directory : `/home/jovyan/work/umpqua/forcing/`\n",
    "You can inspect that directory in the file browser to the left (you can also do that in a terminal if you are familiar with unix).\n",
    "\n",
    "To make sure that the right file is actually being read, you can inspect the `forcing_file_list`, which is at:\n",
    "`/home/jovyan/work/umpqua/settings/snow_zForcingFileList.txt`\n",
    "\n",
    "Keep in mind that commands in a jupyter notebook can be executed in any order, but that that may affect the results. When things don't make sense, re-install the setup for homework 1 (execute the cells in `homework_1_B_setup.ipynb`) and rerun this notebook. To make sure you start afresh, you should also restart the kernel (so there are no old versions in memory). You can do this by going to `Kernel --> Restart Kernel...` and re-executing the notebook cells or selecting `Kernel --> Restart Kernel and Run All Cells`. Normally you would not redo all the model simulations every time, but since the simulations are short, we'll use that method for now."
   ]
  },
  {
   "cell_type": "markdown",
   "metadata": {},
   "source": [
    "Before closing out of this notebook it is good practice to close the open datasets. This prevents errors if other notebooks or SUMMA simulations try to access the same data."
   ]
  },
  {
   "cell_type": "code",
   "execution_count": null,
   "metadata": {},
   "outputs": [],
   "source": [
    "s.output.close()\n",
    "s_windy.output.close()"
   ]
  },
  {
   "cell_type": "markdown",
   "metadata": {},
   "source": [
    "## On to the next step\n",
    "\n",
    "That's it for the first part of the second homework as far as the model simulations go. Prof. Lundquist will talk more about the analysis that you need to do on these simulations. You can do the analysis here in this notebook if python is your analysis software of choice or you can upload your output to HydroShare (in NetCDF or csv format) to do additional analysis.\n",
    "\n",
    "Save this notebook and close the tab. You can also right-click on the file in the left panel if it has a green dot next to it and select \"_Shutdown kernel_\" from the popup menu to stop the python session that is executing the commands in this notebook. Then open the next notebook: \n",
    "`work/homework_1/homework_1_D_exercise_2.ipynb`."
   ]
  }
 ],
 "metadata": {
  "kernelspec": {
   "display_name": "Python 3",
   "language": "python",
   "name": "python3"
  },
  "language_info": {
   "codemirror_mode": {
    "name": "ipython",
    "version": 3
   },
   "file_extension": ".py",
   "mimetype": "text/x-python",
   "name": "python",
   "nbconvert_exporter": "python",
   "pygments_lexer": "ipython3",
   "version": "3.7.3"
  }
 },
 "nbformat": 4,
 "nbformat_minor": 2
}
