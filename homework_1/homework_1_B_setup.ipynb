{
 "cells": [
  {
   "cell_type": "markdown",
   "metadata": {},
   "source": [
    "# Homework 1 : CUAHSI VU : Snow Hydrology"
   ]
  },
  {
   "cell_type": "code",
   "execution_count": null,
   "metadata": {},
   "outputs": [],
   "source": [
    "! cp -r /home/jovyan/umpqua ."
   ]
  },
  {
   "cell_type": "markdown",
   "metadata": {},
   "source": [
    "## B. Setup"
   ]
  },
  {
   "cell_type": "markdown",
   "metadata": {},
   "source": [
    "All three exercises in Homework 1 will use the same data set for the simulations."
   ]
  },
  {
   "cell_type": "markdown",
   "metadata": {},
   "source": [
    "If things go wrong and you overwrite or lose your data you can rerun this setup notebook to re-install the data sets you need for the homework. You can retrieve the original version of this notebook from your `cuahsi_vi_2019` directory."
   ]
  },
  {
   "cell_type": "code",
   "execution_count": null,
   "metadata": {},
   "outputs": [],
   "source": [
    "%matplotlib inline\n",
    "import matplotlib.pyplot as plt\n",
    "import pysumma as ps\n",
    "import warnings\n",
    "warnings.filterwarnings('ignore')"
   ]
  },
  {
   "cell_type": "markdown",
   "metadata": {},
   "source": [
    "Now let's just make sure it all works. We'll create a simulation object and will run a quick test simulation with the configuration that you now have."
   ]
  },
  {
   "cell_type": "code",
   "execution_count": null,
   "metadata": {},
   "outputs": [],
   "source": [
    "filemanager = './umpqua/settings/snow_fileManager.txt'\n",
    "executable = 'summa.exe'\n",
    "s = ps.Simulation(executable, filemanager)"
   ]
  },
  {
   "cell_type": "markdown",
   "metadata": {},
   "source": [
    "Let's run the test case. This one may take a bit longer than the previous simulations and may take about up to a minute to run."
   ]
  },
  {
   "cell_type": "code",
   "execution_count": null,
   "metadata": {},
   "outputs": [],
   "source": [
    "s.run('local', run_suffix='_homework1_b')"
   ]
  },
  {
   "cell_type": "markdown",
   "metadata": {},
   "source": [
    "This doesn't actually produce any output, so to make sure that your run completed successfully, you can look at the value of `s.status`"
   ]
  },
  {
   "cell_type": "code",
   "execution_count": null,
   "metadata": {},
   "outputs": [],
   "source": [
    "s.status"
   ]
  },
  {
   "cell_type": "markdown",
   "metadata": {},
   "source": [
    "This should result in 'Success'. If it is 'Error', then you can investigate the reason for the error by using\n",
    "\n",
    "`print(s.stdout)` or\n",
    "`print(s.stderr)`\n",
    "\n",
    "A common problem in these notebooks is that when you rerun a model run, the output files associated with the original run are still open. In that case, the error message from `print(s.stdout)` says something like\n",
    "\n",
    "```\n",
    "FATAL ERROR: summa_manageOutputFiles/summa_defineOutputFiles/def_output/iCreate[create][Permission denied]\n",
    "```\n",
    "\n",
    "If that is the case, just run it again and it will work. The safer way would be to create a new simulation object for each individual run that you do in the same notebook."
   ]
  },
  {
   "cell_type": "markdown",
   "metadata": {},
   "source": [
    "And a quick plot of the snow water equivalent time series to make sure we get output that is meaningful. Note that we can select the first hru by using `isel()` to select by index. The first hru is at position 0, so we'll use `isel(hru=0)`."
   ]
  },
  {
   "cell_type": "code",
   "execution_count": null,
   "metadata": {},
   "outputs": [],
   "source": [
    "s.output['scalarSWE'].isel(hru=0).plot()"
   ]
  },
  {
   "cell_type": "markdown",
   "metadata": {},
   "source": [
    "If you inspect the model output (by just typing `s.output`), you will notice that there are actually two hrus (hydrologic response units) in the input and output files. The data we are using in this exercise come from observations that Pascal Storck did as part of his PhD at the University of Washington in the mid- to late 1990s. The measurements were made in southern Oregon on the west slope of the Cascade mountains, an area in the transient snow zone that receives a lot of precipitation in winter. One of the goals of the work was to examine the effects of forest harvest practices on snow and hydrology. The first HRU represents a forest clearing, while the second hru represents a forested site."
   ]
  },
  {
   "cell_type": "markdown",
   "metadata": {},
   "source": [
    "To plot output for the clearing and the forest, you can do something like:"
   ]
  },
  {
   "cell_type": "code",
   "execution_count": null,
   "metadata": {},
   "outputs": [],
   "source": [
    "s.output['scalarSWE'].isel(hru=0).plot(label='Clearing')\n",
    "s.output['scalarSWE'].isel(hru=1).plot(label='Forest')\n",
    "plt.legend()"
   ]
  },
  {
   "cell_type": "markdown",
   "metadata": {},
   "source": [
    "Here the forest SWE is actually the snow on the ground (under the trees). Does this look like you'd expect? We'll come back to this in the notebooks that follow."
   ]
  },
  {
   "cell_type": "markdown",
   "metadata": {},
   "source": [
    "## On to the next step"
   ]
  },
  {
   "cell_type": "markdown",
   "metadata": {},
   "source": [
    "You're all set up for the homework assignment and in the next three notebooks it will be your turn to write some python code to manipulate the simulations. Save this notebook and close the tab. You can also right-click on the file in the left panel if it has a green dot next to it and select \"_Shutdown kernel_\" from the popup menu to stop the python session that is executing the commands in this notebook. Then open the next notebook: `/home/jovyan/examples/homework_1/homework_1_C_exercise_1.ipynb`."
   ]
  },
  {
   "cell_type": "code",
   "execution_count": null,
   "metadata": {},
   "outputs": [],
   "source": []
  }
 ],
 "metadata": {
  "kernelspec": {
   "display_name": "Python 3",
   "language": "python",
   "name": "python3"
  },
  "language_info": {
   "codemirror_mode": {
    "name": "ipython",
    "version": 3
   },
   "file_extension": ".py",
   "mimetype": "text/x-python",
   "name": "python",
   "nbconvert_exporter": "python",
   "pygments_lexer": "ipython3",
   "version": "3.7.3"
  }
 },
 "nbformat": 4,
 "nbformat_minor": 2
}
